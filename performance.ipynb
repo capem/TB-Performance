{
 "cells": [
  {
   "cell_type": "markdown",
   "metadata": {},
   "source": [
    "# mdb_to_df"
   ]
  },
  {
   "cell_type": "code",
   "execution_count": 2,
   "metadata": {
    "vscode": {
     "end_execution_time": "2020-08-26T16:14:35.221Z",
     "start_execution_time": "2020-08-26T16:14:34.379Z"
    }
   },
   "outputs": [],
   "source": [
    "import pyodbc\n",
    "import os\n",
    "import pandas as pd\n",
    "from zipfile import ZipFile\n",
    "\n",
    "\n",
    "def mdb_to_df(file_name, sql):\n",
    "\n",
    "    conn_str = (\n",
    "        r'DRIVER={Microsoft Access Driver (*.mdb, *.accdb)};'\n",
    "        fr'DBQ={file_name};'\n",
    "    )\n",
    "    print(conn_str)\n",
    "    cnxn = pyodbc.connect(conn_str)\n",
    "\n",
    "    df = pd.read_sql(sql, cnxn)\n",
    "\n",
    "    print(f'{file_name} Loaded')\n",
    "    return df"
   ]
  },
  {
   "cell_type": "markdown",
   "metadata": {},
   "source": [
    "# Read SUM"
   ]
  },
  {
   "cell_type": "code",
   "execution_count": 3,
   "metadata": {},
   "outputs": [],
   "source": [
    "import numpy as np\n",
    "from datetime import datetime as dt\n",
    "\n",
    "\n",
    "def read_sum(period):\n",
    "    usecols_sum = \"\"\"\n",
    "    SELECT CDbl(TimeOn) AS TOn, CDbl(TimeOff) AS TOff,\n",
    "    StationNr, Alarmcode, ID, Parameter\n",
    "    FROM tblAlarmLog WHERE TimeOff IS NOT NULL\n",
    "    union\n",
    "    SELECT CDbl(TimeOn) AS TOn, TimeOff AS TOff,\n",
    "    StationNr, Alarmcode, ID, Parameter\n",
    "    FROM tblAlarmLog WHERE TimeOff IS NULL\n",
    "    \"\"\"\n",
    "    file_name = f'../DATA/SUM/{period}-sum.mdb'\n",
    "    alarms = mdb_to_df(file_name=file_name, sql=usecols_sum)\n",
    "\n",
    "    alarms['TOn'] = sqldate_to_datetime(alarms['TOn'])\n",
    "    alarms['TOff'] = sqldate_to_datetime(alarms['TOff'])\n",
    "\n",
    "    alarms.rename(columns={'TOn': 'TimeOn',\n",
    "                           'TOff': 'TimeOff'}, inplace=True)\n",
    "\n",
    "    alarms = alarms[alarms.StationNr >= 2307405]\n",
    "\n",
    "    alarms = alarms[\n",
    "        alarms.StationNr <= 2307535].reset_index(\n",
    "        drop=True)\n",
    "\n",
    "    alarms.dropna(subset=['Alarmcode'], inplace=True)\n",
    "\n",
    "    alarms.reset_index(drop=True, inplace=True)\n",
    "\n",
    "    alarms.Alarmcode = alarms.Alarmcode.astype(int)\n",
    "\n",
    "    return alarms\n",
    "\n",
    "\n",
    "def sqldate_to_datetime(column):\n",
    "    try:\n",
    "        column = column.str.replace(',', '.').astype(float)\n",
    "    except:\n",
    "        pass\n",
    "    day_parts = np.modf(column.loc[~column.isna()])\n",
    "\n",
    "    column.loc[~column.isna()] = (\n",
    "        dt(1899, 12, 30) +\n",
    "        day_parts[1].astype('timedelta64[D]', errors='ignore') +\n",
    "        (day_parts[0] * 86400000).astype('timedelta64[ms]', errors='ignore')\n",
    "    )\n",
    "    column = column.fillna(pd.NaT)\n",
    "    return column"
   ]
  },
  {
   "cell_type": "markdown",
   "metadata": {},
   "source": [
    "# Cascade"
   ]
  },
  {
   "cell_type": "code",
   "execution_count": 4,
   "metadata": {},
   "outputs": [],
   "source": [
    "# Determine alarms real periods\n",
    "def cascade(df):\n",
    "\n",
    "    df.reset_index(inplace=True, drop=True)\n",
    "    df['TimeOffMax'] = df.TimeOff.cummax().shift()\n",
    "\n",
    "    df.at[0, 'TimeOffMax'] = df.at[0, 'TimeOn']\n",
    "\n",
    "    return df\n",
    "\n",
    "\n",
    "# looping through turbines and applying cascade method\n",
    "def apply_cascade(result_sum):\n",
    "\n",
    "    # Sort by alarm ID\n",
    "    result_sum.sort_values(['ID'], inplace=True)\n",
    "    df = result_sum.groupby('StationId').apply(cascade)\n",
    "\n",
    "    mask_root = (df.TimeOn.values >= df.TimeOffMax.values)\n",
    "    mask_children = (df.TimeOn.values < df.TimeOffMax.values) & (\n",
    "        df.TimeOff.values > df.TimeOffMax.values)\n",
    "    mask_embedded = (df.TimeOff.values <= df.TimeOffMax.values)\n",
    "\n",
    "    df.loc[mask_root, 'NewTimeOn'] = df.loc[mask_root, 'TimeOn']\n",
    "    df.loc[mask_children, 'NewTimeOn'] = df.loc[mask_children, 'TimeOffMax']\n",
    "    df.loc[mask_embedded, 'NewTimeOn'] = df.loc[mask_embedded, 'TimeOff']\n",
    "\n",
    "    df.drop(columns=['TimeOffMax'], inplace=True)\n",
    "\n",
    "    df.reset_index(inplace=True, drop=True)\n",
    "\n",
    "    TimeOff = df.TimeOff\n",
    "    NewTimeOn = df.NewTimeOn\n",
    "\n",
    "    df['RealPeriod'] = abs(TimeOff - NewTimeOn)\n",
    "\n",
    "    mask_siemens = (df['Error Type'] == 1)\n",
    "    mask_tarec = (df['Error Type'] == 0)\n",
    "\n",
    "    df['Period Siemens(s)'] = df[mask_siemens].RealPeriod  # .dt.seconds\n",
    "    df['Period Tarec(s)'] = df[mask_tarec].RealPeriod  # .dt.seconds\n",
    "    # df['RealPeriod'] = df['RealPeriod'].dt.seconds\n",
    "\n",
    "    return df"
   ]
  },
  {
   "cell_type": "markdown",
   "metadata": {},
   "source": [
    "# Periods"
   ]
  },
  {
   "cell_type": "code",
   "execution_count": 5,
   "metadata": {},
   "outputs": [],
   "source": [
    "from dateutil.relativedelta import relativedelta\n",
    "\n",
    "period = input('period ex: \"2020-07\"') or '2020-07'\n",
    "\n",
    "period_dt = dt.strptime(period, \"%Y-%m\")\n",
    "period_month = period_dt.month\n",
    "period_year = period_dt.year\n",
    "\n",
    "days_in_period = pd.Period(f'{period}').days_in_month\n",
    "\n",
    "previous_period_dt = period_dt + relativedelta(months=-1)\n",
    "previous_period = previous_period_dt.strftime(\"%Y-%m\")\n",
    "\n",
    "lastday_period_dt = period_dt + relativedelta(months=1, days=-1)\n",
    "lastday_period = lastday_period_dt.strftime(\"%Y-%m-%d\")\n",
    "\n",
    "\n",
    "lastday_previous_period_dt = period_dt + relativedelta(days=-1)\n",
    "lastday_previous_period = lastday_previous_period_dt.strftime(\"%Y-%m-%d\")\n",
    "\n",
    "days_to_previous_period = len(pd.date_range(\n",
    "    f'{period_year}-01-01', lastday_previous_period_dt))"
   ]
  },
  {
   "cell_type": "markdown",
   "metadata": {},
   "source": [
    "# Import last period cumul"
   ]
  },
  {
   "cell_type": "code",
   "execution_count": null,
   "metadata": {},
   "outputs": [],
   "source": [
    "df_last_cumul = pd.read_excel(f'./input/{previous_period}/output_xlsxwriter.xlsx', sheet_name= 'ax1')\n",
    "\n",
    "last_boost_cumul = df_last_cumul.iat[0, 7]\n",
    "last_ratio_cumul = df_last_cumul.iat[0, 8]\n",
    "last_mtbf_cumul = df_last_cumul.iat[0, 9]\n",
    "last_mttr_cumul = df_last_cumul.iat[0, 10]\n",
    "last_mtti_cumul = df_last_cumul.iat[0, 11]\n",
    "last_onee_cumul = df_last_cumul.iat[0, 12]"
   ]
  },
  {
   "cell_type": "markdown",
   "metadata": {},
   "source": [
    "# ONEE"
   ]
  },
  {
   "cell_type": "code",
   "execution_count": 67,
   "metadata": {},
   "outputs": [
    {
     "output_type": "execute_result",
     "data": {
      "text/plain": "   LTA-Lost Time  Indispo. Total %  Indispo. Tarec %  Indispo. Siemens %  \\\n0              0              2.85              0.71                2.14   \n1              0              1.79              0.20                1.59   \n\n   Indispo. ONEE %  Indispo. Ebop %  Pertes élctriques \\n en MWh  \\\n0                0                0                     14647.50   \n1                0                0                      4271.14   \n\n   Power Boost en MWh  Performance moyenne \\n des turbines  \\\n0         6387.148547                                    0   \n1         2929.048547                                    0   \n\n   MTBF - Mean Time \\n Between Failure  MTTR - Mean Time \\n To Repair  \\\n0                            39.283167                      11.160979   \n1                            48.472215                      10.931891   \n\n   MTTI - Mean Time \\n To Intervention  \n0                             8.084343  \n1                             7.875000  ",
      "text/html": "<div>\n<style scoped>\n    .dataframe tbody tr th:only-of-type {\n        vertical-align: middle;\n    }\n\n    .dataframe tbody tr th {\n        vertical-align: top;\n    }\n\n    .dataframe thead th {\n        text-align: right;\n    }\n</style>\n<table border=\"1\" class=\"dataframe\">\n  <thead>\n    <tr style=\"text-align: right;\">\n      <th></th>\n      <th>LTA-Lost Time</th>\n      <th>Indispo. Total %</th>\n      <th>Indispo. Tarec %</th>\n      <th>Indispo. Siemens %</th>\n      <th>Indispo. ONEE %</th>\n      <th>Indispo. Ebop %</th>\n      <th>Pertes élctriques \\n en MWh</th>\n      <th>Power Boost en MWh</th>\n      <th>Performance moyenne \\n des turbines</th>\n      <th>MTBF - Mean Time \\n Between Failure</th>\n      <th>MTTR - Mean Time \\n To Repair</th>\n      <th>MTTI - Mean Time \\n To Intervention</th>\n    </tr>\n  </thead>\n  <tbody>\n    <tr>\n      <th>0</th>\n      <td>0</td>\n      <td>2.85</td>\n      <td>0.71</td>\n      <td>2.14</td>\n      <td>0</td>\n      <td>0</td>\n      <td>14647.50</td>\n      <td>6387.148547</td>\n      <td>0</td>\n      <td>39.283167</td>\n      <td>11.160979</td>\n      <td>8.084343</td>\n    </tr>\n    <tr>\n      <th>1</th>\n      <td>0</td>\n      <td>1.79</td>\n      <td>0.20</td>\n      <td>1.59</td>\n      <td>0</td>\n      <td>0</td>\n      <td>4271.14</td>\n      <td>2929.048547</td>\n      <td>0</td>\n      <td>48.472215</td>\n      <td>10.931891</td>\n      <td>7.875000</td>\n    </tr>\n  </tbody>\n</table>\n</div>"
     },
     "metadata": {},
     "execution_count": 67
    }
   ],
   "source": [
    "onee_period = 175431.28\n",
    "last_onee_cumul = 554999.62\n",
    "\n",
    "onee_cumul = (last_onee_cumul + onee_period)"
   ]
  },
  {
   "cell_type": "markdown",
   "metadata": {},
   "source": [
    "# Power Boost"
   ]
  },
  {
   "cell_type": "code",
   "execution_count": 6,
   "metadata": {
    "tags": []
   },
   "outputs": [],
   "source": [
    "\n",
    "def read_boost(file_name):\n",
    "    usecols_cnt = '''TimeStamp, StationId, wtc_BoostKWh_endvalue'''\n",
    "\n",
    "    sql_cnt = f\"Select {usecols_cnt} FROM tblSCTurCount;\"\n",
    "\n",
    "    cnt = mdb_to_df(file_name=file_name, sql=sql_cnt)\n",
    "\n",
    "    cnt['TimeStamp'] = pd.to_datetime(\n",
    "        cnt['TimeStamp'], format='%m/%d/%y %H:%M:%S')\n",
    "\n",
    "    return cnt\n",
    "\n",
    "def boost_endvalue_check(df):\n",
    "    df = df.reset_index().sort_values('TimeStamp')\n",
    "    df.drop('index', axis=1, inplace=True)\n",
    "    clmn = df['wtc_BoostKWh_endvalue']\n",
    "    x = (clmn.iat[-1] - clmn.iat[0])/1000\n",
    "    # df = df.diff().query('wtc_BoostKWh_endvalue < 0')\n",
    "    if x < 0:\n",
    "        return 0\n",
    "    else:\n",
    "        return x\n",
    "\n"
   ]
  },
  {
   "cell_type": "code",
   "execution_count": 7,
   "metadata": {
    "tags": []
   },
   "outputs": [
    {
     "output_type": "stream",
     "name": "stdout",
     "text": "DRIVER={Microsoft Access Driver (*.mdb, *.accdb)};DBQ=../Availability_Warranty_Dash/monthly_data/uploads/2020-07/2020-07-cnt.mdb;\n../Availability_Warranty_Dash/monthly_data/uploads/2020-07/2020-07-cnt.mdb Loaded\n"
    }
   ],
   "source": [
    "\n",
    "last_boost_cumul = input('last_boost_cumul') or 3458.1\n",
    "\n",
    "boost = read_boost(f'../Availability_Warranty_Dash/monthly_data/uploads/{period}/{period}-cnt.mdb')\n",
    "\n",
    "boost_period = boost.groupby('StationId').apply(lambda df: boost_endvalue_check(df)).sum()\n",
    "\n",
    "boost_cumul = last_boost_cumul + boost_period"
   ]
  },
  {
   "cell_type": "code",
   "execution_count": 8,
   "metadata": {},
   "outputs": [
    {
     "output_type": "execute_result",
     "data": {
      "text/plain": "(2929.0485468750003, 6387.148546875)"
     },
     "metadata": {},
     "execution_count": 8
    }
   ],
   "source": [
    "boost_period, boost_cumul"
   ]
  },
  {
   "cell_type": "markdown",
   "metadata": {},
   "source": [
    "# Input MTBF MTTR MTTI "
   ]
  },
  {
   "cell_type": "code",
   "execution_count": 9,
   "metadata": {},
   "outputs": [
    {
     "output_type": "execute_result",
     "data": {
      "text/plain": "    StationNr  StationCount  MTTI en (s)  Nombre de valeurs  \\\n0     2307405           1.0          NaN                NaN   \n1     2307406           2.0      49614.0                1.0   \n2     2307407           3.0          NaN                NaN   \n3     2307408           4.0      60897.0                1.0   \n4     2307409           5.0      34306.0                2.0   \n..        ...           ...          ...                ...   \n127   2307532         128.0         19.0                1.0   \n128   2307533         129.0          NaN                NaN   \n129   2307534         130.0          NaN                NaN   \n130   2307535         131.0      39606.0                2.0   \n131    GLOBAL           NaN      28350.0               88.0   \n\n     Somme des valeurs  Nombre d'erreurs  \n0                  NaN               NaN  \n1              49614.0               0.0  \n2                  NaN               NaN  \n3              60897.0               0.0  \n4              68612.0               0.0  \n..                 ...               ...  \n127               19.0               0.0  \n128                NaN               NaN  \n129                NaN               NaN  \n130            79212.0               0.0  \n131          2494852.0               1.0  \n\n[132 rows x 6 columns]",
      "text/html": "<div>\n<style scoped>\n    .dataframe tbody tr th:only-of-type {\n        vertical-align: middle;\n    }\n\n    .dataframe tbody tr th {\n        vertical-align: top;\n    }\n\n    .dataframe thead th {\n        text-align: right;\n    }\n</style>\n<table border=\"1\" class=\"dataframe\">\n  <thead>\n    <tr style=\"text-align: right;\">\n      <th></th>\n      <th>StationNr</th>\n      <th>StationCount</th>\n      <th>MTTI en (s)</th>\n      <th>Nombre de valeurs</th>\n      <th>Somme des valeurs</th>\n      <th>Nombre d'erreurs</th>\n    </tr>\n  </thead>\n  <tbody>\n    <tr>\n      <th>0</th>\n      <td>2307405</td>\n      <td>1.0</td>\n      <td>NaN</td>\n      <td>NaN</td>\n      <td>NaN</td>\n      <td>NaN</td>\n    </tr>\n    <tr>\n      <th>1</th>\n      <td>2307406</td>\n      <td>2.0</td>\n      <td>49614.0</td>\n      <td>1.0</td>\n      <td>49614.0</td>\n      <td>0.0</td>\n    </tr>\n    <tr>\n      <th>2</th>\n      <td>2307407</td>\n      <td>3.0</td>\n      <td>NaN</td>\n      <td>NaN</td>\n      <td>NaN</td>\n      <td>NaN</td>\n    </tr>\n    <tr>\n      <th>3</th>\n      <td>2307408</td>\n      <td>4.0</td>\n      <td>60897.0</td>\n      <td>1.0</td>\n      <td>60897.0</td>\n      <td>0.0</td>\n    </tr>\n    <tr>\n      <th>4</th>\n      <td>2307409</td>\n      <td>5.0</td>\n      <td>34306.0</td>\n      <td>2.0</td>\n      <td>68612.0</td>\n      <td>0.0</td>\n    </tr>\n    <tr>\n      <th>...</th>\n      <td>...</td>\n      <td>...</td>\n      <td>...</td>\n      <td>...</td>\n      <td>...</td>\n      <td>...</td>\n    </tr>\n    <tr>\n      <th>127</th>\n      <td>2307532</td>\n      <td>128.0</td>\n      <td>19.0</td>\n      <td>1.0</td>\n      <td>19.0</td>\n      <td>0.0</td>\n    </tr>\n    <tr>\n      <th>128</th>\n      <td>2307533</td>\n      <td>129.0</td>\n      <td>NaN</td>\n      <td>NaN</td>\n      <td>NaN</td>\n      <td>NaN</td>\n    </tr>\n    <tr>\n      <th>129</th>\n      <td>2307534</td>\n      <td>130.0</td>\n      <td>NaN</td>\n      <td>NaN</td>\n      <td>NaN</td>\n      <td>NaN</td>\n    </tr>\n    <tr>\n      <th>130</th>\n      <td>2307535</td>\n      <td>131.0</td>\n      <td>39606.0</td>\n      <td>2.0</td>\n      <td>79212.0</td>\n      <td>0.0</td>\n    </tr>\n    <tr>\n      <th>131</th>\n      <td>GLOBAL</td>\n      <td>NaN</td>\n      <td>28350.0</td>\n      <td>88.0</td>\n      <td>2494852.0</td>\n      <td>1.0</td>\n    </tr>\n  </tbody>\n</table>\n<p>132 rows × 6 columns</p>\n</div>"
     },
     "metadata": {},
     "execution_count": 9
    }
   ],
   "source": [
    "MTTI = pd.read_html(f'./input/{period}/Analyse_ID-173_MTTI.html', header=0)[0]\n",
    "MTTI"
   ]
  },
  {
   "cell_type": "code",
   "execution_count": 10,
   "metadata": {},
   "outputs": [
    {
     "output_type": "execute_result",
     "data": {
      "text/plain": "7.875"
     },
     "metadata": {},
     "execution_count": 10
    }
   ],
   "source": [
    "mtti_period = MTTI.iat[-1,2]/3600\n",
    "mtti_period"
   ]
  },
  {
   "cell_type": "code",
   "execution_count": 11,
   "metadata": {},
   "outputs": [
    {
     "output_type": "execute_result",
     "data": {
      "text/plain": "97.47427230046947"
     },
     "metadata": {},
     "execution_count": 11
    }
   ],
   "source": [
    "(97.32*days_to_previous_period + 98.38*days_in_period) / \\\n",
    "    (days_to_previous_period+days_in_period)"
   ]
  },
  {
   "cell_type": "code",
   "execution_count": 12,
   "metadata": {},
   "outputs": [
    {
     "output_type": "execute_result",
     "data": {
      "text/plain": "'(8.12*182 + 7.875*31)/(182+31)'"
     },
     "metadata": {},
     "execution_count": 12
    }
   ],
   "source": [
    "# MTTI cumulé\n",
    "\n",
    "last_mtti_cumul = float(input('last_mtti_cumul') or 8.12)\n",
    "\n",
    "mtti_cumul = (last_mtti_cumul*days_to_previous_period + mtti_period *\n",
    "              days_in_period)/(days_to_previous_period+days_in_period)\n",
    "\n",
    "f'({last_mtti_cumul}*{days_to_previous_period} + {mtti_period}*{days_in_period})/({days_to_previous_period}+{days_in_period})'"
   ]
  },
  {
   "cell_type": "code",
   "execution_count": 13,
   "metadata": {},
   "outputs": [
    {
     "output_type": "execute_result",
     "data": {
      "text/plain": "        Catégorie  Durée Alarme  Fréquence Alarme  MTTR en h     MTBF en j\n0          System   1727.498056               185   9.337827    128.486600\n1       Generator    307.007778                 9  34.111975   2647.689779\n2             Hub    454.496944                37  12.283701    643.866557\n3            Gear    548.919167                45  12.198204    529.313964\n4            Grid   1426.620833               161   8.860999    147.717748\n5           Rotor    154.212778                18   8.567377   1324.198582\n6      Hydraulics   1939.796667               186  10.429014    127.748253\n7     Environment    124.631667                21   5.934841   1135.086048\n9           Brake    350.368333                35  10.010524    680.782895\n10            Yaw   2863.508333               252  11.363128     94.137647\n13      Converter   1157.399167                95  12.183149    250.460790\n17     Controller   1771.196389               152  11.652608    156.369738\n18  Miscellaneous      3.450000                 1   3.450000  23841.856250",
      "text/html": "<div>\n<style scoped>\n    .dataframe tbody tr th:only-of-type {\n        vertical-align: middle;\n    }\n\n    .dataframe tbody tr th {\n        vertical-align: top;\n    }\n\n    .dataframe thead th {\n        text-align: right;\n    }\n</style>\n<table border=\"1\" class=\"dataframe\">\n  <thead>\n    <tr style=\"text-align: right;\">\n      <th></th>\n      <th>Catégorie</th>\n      <th>Durée Alarme</th>\n      <th>Fréquence Alarme</th>\n      <th>MTTR en h</th>\n      <th>MTBF en j</th>\n    </tr>\n  </thead>\n  <tbody>\n    <tr>\n      <th>0</th>\n      <td>System</td>\n      <td>1727.498056</td>\n      <td>185</td>\n      <td>9.337827</td>\n      <td>128.486600</td>\n    </tr>\n    <tr>\n      <th>1</th>\n      <td>Generator</td>\n      <td>307.007778</td>\n      <td>9</td>\n      <td>34.111975</td>\n      <td>2647.689779</td>\n    </tr>\n    <tr>\n      <th>2</th>\n      <td>Hub</td>\n      <td>454.496944</td>\n      <td>37</td>\n      <td>12.283701</td>\n      <td>643.866557</td>\n    </tr>\n    <tr>\n      <th>3</th>\n      <td>Gear</td>\n      <td>548.919167</td>\n      <td>45</td>\n      <td>12.198204</td>\n      <td>529.313964</td>\n    </tr>\n    <tr>\n      <th>4</th>\n      <td>Grid</td>\n      <td>1426.620833</td>\n      <td>161</td>\n      <td>8.860999</td>\n      <td>147.717748</td>\n    </tr>\n    <tr>\n      <th>5</th>\n      <td>Rotor</td>\n      <td>154.212778</td>\n      <td>18</td>\n      <td>8.567377</td>\n      <td>1324.198582</td>\n    </tr>\n    <tr>\n      <th>6</th>\n      <td>Hydraulics</td>\n      <td>1939.796667</td>\n      <td>186</td>\n      <td>10.429014</td>\n      <td>127.748253</td>\n    </tr>\n    <tr>\n      <th>7</th>\n      <td>Environment</td>\n      <td>124.631667</td>\n      <td>21</td>\n      <td>5.934841</td>\n      <td>1135.086048</td>\n    </tr>\n    <tr>\n      <th>9</th>\n      <td>Brake</td>\n      <td>350.368333</td>\n      <td>35</td>\n      <td>10.010524</td>\n      <td>680.782895</td>\n    </tr>\n    <tr>\n      <th>10</th>\n      <td>Yaw</td>\n      <td>2863.508333</td>\n      <td>252</td>\n      <td>11.363128</td>\n      <td>94.137647</td>\n    </tr>\n    <tr>\n      <th>13</th>\n      <td>Converter</td>\n      <td>1157.399167</td>\n      <td>95</td>\n      <td>12.183149</td>\n      <td>250.460790</td>\n    </tr>\n    <tr>\n      <th>17</th>\n      <td>Controller</td>\n      <td>1771.196389</td>\n      <td>152</td>\n      <td>11.652608</td>\n      <td>156.369738</td>\n    </tr>\n    <tr>\n      <th>18</th>\n      <td>Miscellaneous</td>\n      <td>3.450000</td>\n      <td>1</td>\n      <td>3.450000</td>\n      <td>23841.856250</td>\n    </tr>\n  </tbody>\n</table>\n</div>"
     },
     "metadata": {},
     "execution_count": 13
    }
   ],
   "source": [
    "MTBF_MTTR_cat_prev_cumul = pd.read_excel(\n",
    "    f'./input/{previous_period}/MTBF & MTTR cumul.xlsx')\n",
    "\n",
    "MTBF_MTTR_cat_prev_cumul.dropna(\n",
    "    how='all', subset=['MTBF en j', 'MTTR en h'], inplace=True)\n",
    "\n",
    "MTBF_MTTR_cat_prev_cumul.rename(\n",
    "    columns={'Catégorie Alarme': 'Catégorie'}, inplace=True)\n",
    "\n",
    "MTBF_MTTR_cat_prev_cumul"
   ]
  },
  {
   "cell_type": "code",
   "execution_count": 14,
   "metadata": {},
   "outputs": [],
   "source": [
    "MTBF_MTTR_cat = pd.read_excel(f'./input/{period}/MTBF & MTTR.xlsx')\n",
    "\n",
    "MTBF_MTTR_GLOBAL, MTBF_MTTR_cat = MTBF_MTTR_cat.iloc[0], MTBF_MTTR_cat.iloc[1:]\n",
    "\n",
    "MTBF_MTTR_cat.dropna(how='all', subset=['MTBF', 'MTTR'], inplace=True)"
   ]
  },
  {
   "cell_type": "code",
   "execution_count": 15,
   "metadata": {},
   "outputs": [
    {
     "output_type": "execute_result",
     "data": {
      "text/plain": "Catégorie                    <GLOBAL>\nMTBF                        4.188e+06\nMTBF (Temps total)         3.5087e+08\nMTBF (Temps d'arrêt)      3.26645e+06\nMTBF (Nombre d'arrêts)             83\nMTTR                          39354.8\nMTTR (Temps d'arrêt)      3.26645e+06\nMTTR (Nombre d'arrêts)             83\nName: 0, dtype: object"
     },
     "metadata": {},
     "execution_count": 15
    }
   ],
   "source": [
    "MTBF_MTTR_GLOBAL"
   ]
  },
  {
   "cell_type": "code",
   "execution_count": 16,
   "metadata": {},
   "outputs": [
    {
     "output_type": "execute_result",
     "data": {
      "text/plain": "        Catégorie          MTBF  MTBF (Temps total)  MTBF (Temps d'arrêt)  \\\n0           Brake  8.767718e+07         350870400.0              161696.0   \n1      Controller  4.380744e+07         350870400.0              410892.0   \n2       Converter  1.750276e+07         350870400.0              815134.0   \n3            Gear  3.896020e+07         350870400.0              228639.0   \n4            Grid  2.919987e+07         350870400.0              471961.0   \n5             Hub  5.009759e+07         350870400.0              187270.0   \n6      Hydraulics  3.896579e+07         350870400.0              178324.0   \n7   Miscellaneous  3.507746e+08         350870400.0               95773.0   \n8           Rotor  1.754211e+08         350870400.0               28157.0   \n9          System  2.335240e+07         350870400.0              584336.0   \n10            Yaw  1.749491e+07         350870400.0              972296.0   \n11      Generator  0.000000e+00                 0.0                   0.0   \n12    Environment  0.000000e+00                 0.0                   0.0   \n\n    MTBF (Nombre d'arrêts)        MTTR  MTTR (Temps d'arrêt)  \\\n0                      4.0  40424.0000              161696.0   \n1                      8.0  51361.5000              410892.0   \n2                     20.0  40756.7000              815134.0   \n3                      9.0  25404.3333              228639.0   \n4                     12.0  39330.0833              471961.0   \n5                      7.0  26752.8571              187270.0   \n6                      9.0  19813.7777              178324.0   \n7                      1.0  95773.0000               95773.0   \n8                      2.0  14078.5000               28157.0   \n9                     15.0  38955.7333              584336.0   \n10                    20.0  48614.8000              972296.0   \n11                     0.0      0.0000                   0.0   \n12                     0.0      0.0000                   0.0   \n\n    MTTR (Nombre d'arrêts)  Durée Alarme  Fréquence Alarme  MTTR en h  \\\n0                      4.0    350.368333                35  10.010524   \n1                      8.0   1771.196389               152  11.652608   \n2                     20.0   1157.399167                95  12.183149   \n3                      9.0    548.919167                45  12.198204   \n4                     12.0   1426.620833               161   8.860999   \n5                      7.0    454.496944                37  12.283701   \n6                      9.0   1939.796667               186  10.429014   \n7                      1.0      3.450000                 1   3.450000   \n8                      2.0    154.212778                18   8.567377   \n9                     15.0   1727.498056               185   9.337827   \n10                    20.0   2863.508333               252  11.363128   \n11                     0.0    307.007778                 9  34.111975   \n12                     0.0    124.631667                21   5.934841   \n\n       MTBF en j  \n0     680.782895  \n1     156.369738  \n2     250.460790  \n3     529.313964  \n4     147.717748  \n5     643.866557  \n6     127.748253  \n7   23841.856250  \n8    1324.198582  \n9     128.486600  \n10     94.137647  \n11   2647.689779  \n12   1135.086048  ",
      "text/html": "<div>\n<style scoped>\n    .dataframe tbody tr th:only-of-type {\n        vertical-align: middle;\n    }\n\n    .dataframe tbody tr th {\n        vertical-align: top;\n    }\n\n    .dataframe thead th {\n        text-align: right;\n    }\n</style>\n<table border=\"1\" class=\"dataframe\">\n  <thead>\n    <tr style=\"text-align: right;\">\n      <th></th>\n      <th>Catégorie</th>\n      <th>MTBF</th>\n      <th>MTBF (Temps total)</th>\n      <th>MTBF (Temps d'arrêt)</th>\n      <th>MTBF (Nombre d'arrêts)</th>\n      <th>MTTR</th>\n      <th>MTTR (Temps d'arrêt)</th>\n      <th>MTTR (Nombre d'arrêts)</th>\n      <th>Durée Alarme</th>\n      <th>Fréquence Alarme</th>\n      <th>MTTR en h</th>\n      <th>MTBF en j</th>\n    </tr>\n  </thead>\n  <tbody>\n    <tr>\n      <th>0</th>\n      <td>Brake</td>\n      <td>8.767718e+07</td>\n      <td>350870400.0</td>\n      <td>161696.0</td>\n      <td>4.0</td>\n      <td>40424.0000</td>\n      <td>161696.0</td>\n      <td>4.0</td>\n      <td>350.368333</td>\n      <td>35</td>\n      <td>10.010524</td>\n      <td>680.782895</td>\n    </tr>\n    <tr>\n      <th>1</th>\n      <td>Controller</td>\n      <td>4.380744e+07</td>\n      <td>350870400.0</td>\n      <td>410892.0</td>\n      <td>8.0</td>\n      <td>51361.5000</td>\n      <td>410892.0</td>\n      <td>8.0</td>\n      <td>1771.196389</td>\n      <td>152</td>\n      <td>11.652608</td>\n      <td>156.369738</td>\n    </tr>\n    <tr>\n      <th>2</th>\n      <td>Converter</td>\n      <td>1.750276e+07</td>\n      <td>350870400.0</td>\n      <td>815134.0</td>\n      <td>20.0</td>\n      <td>40756.7000</td>\n      <td>815134.0</td>\n      <td>20.0</td>\n      <td>1157.399167</td>\n      <td>95</td>\n      <td>12.183149</td>\n      <td>250.460790</td>\n    </tr>\n    <tr>\n      <th>3</th>\n      <td>Gear</td>\n      <td>3.896020e+07</td>\n      <td>350870400.0</td>\n      <td>228639.0</td>\n      <td>9.0</td>\n      <td>25404.3333</td>\n      <td>228639.0</td>\n      <td>9.0</td>\n      <td>548.919167</td>\n      <td>45</td>\n      <td>12.198204</td>\n      <td>529.313964</td>\n    </tr>\n    <tr>\n      <th>4</th>\n      <td>Grid</td>\n      <td>2.919987e+07</td>\n      <td>350870400.0</td>\n      <td>471961.0</td>\n      <td>12.0</td>\n      <td>39330.0833</td>\n      <td>471961.0</td>\n      <td>12.0</td>\n      <td>1426.620833</td>\n      <td>161</td>\n      <td>8.860999</td>\n      <td>147.717748</td>\n    </tr>\n    <tr>\n      <th>5</th>\n      <td>Hub</td>\n      <td>5.009759e+07</td>\n      <td>350870400.0</td>\n      <td>187270.0</td>\n      <td>7.0</td>\n      <td>26752.8571</td>\n      <td>187270.0</td>\n      <td>7.0</td>\n      <td>454.496944</td>\n      <td>37</td>\n      <td>12.283701</td>\n      <td>643.866557</td>\n    </tr>\n    <tr>\n      <th>6</th>\n      <td>Hydraulics</td>\n      <td>3.896579e+07</td>\n      <td>350870400.0</td>\n      <td>178324.0</td>\n      <td>9.0</td>\n      <td>19813.7777</td>\n      <td>178324.0</td>\n      <td>9.0</td>\n      <td>1939.796667</td>\n      <td>186</td>\n      <td>10.429014</td>\n      <td>127.748253</td>\n    </tr>\n    <tr>\n      <th>7</th>\n      <td>Miscellaneous</td>\n      <td>3.507746e+08</td>\n      <td>350870400.0</td>\n      <td>95773.0</td>\n      <td>1.0</td>\n      <td>95773.0000</td>\n      <td>95773.0</td>\n      <td>1.0</td>\n      <td>3.450000</td>\n      <td>1</td>\n      <td>3.450000</td>\n      <td>23841.856250</td>\n    </tr>\n    <tr>\n      <th>8</th>\n      <td>Rotor</td>\n      <td>1.754211e+08</td>\n      <td>350870400.0</td>\n      <td>28157.0</td>\n      <td>2.0</td>\n      <td>14078.5000</td>\n      <td>28157.0</td>\n      <td>2.0</td>\n      <td>154.212778</td>\n      <td>18</td>\n      <td>8.567377</td>\n      <td>1324.198582</td>\n    </tr>\n    <tr>\n      <th>9</th>\n      <td>System</td>\n      <td>2.335240e+07</td>\n      <td>350870400.0</td>\n      <td>584336.0</td>\n      <td>15.0</td>\n      <td>38955.7333</td>\n      <td>584336.0</td>\n      <td>15.0</td>\n      <td>1727.498056</td>\n      <td>185</td>\n      <td>9.337827</td>\n      <td>128.486600</td>\n    </tr>\n    <tr>\n      <th>10</th>\n      <td>Yaw</td>\n      <td>1.749491e+07</td>\n      <td>350870400.0</td>\n      <td>972296.0</td>\n      <td>20.0</td>\n      <td>48614.8000</td>\n      <td>972296.0</td>\n      <td>20.0</td>\n      <td>2863.508333</td>\n      <td>252</td>\n      <td>11.363128</td>\n      <td>94.137647</td>\n    </tr>\n    <tr>\n      <th>11</th>\n      <td>Generator</td>\n      <td>0.000000e+00</td>\n      <td>0.0</td>\n      <td>0.0</td>\n      <td>0.0</td>\n      <td>0.0000</td>\n      <td>0.0</td>\n      <td>0.0</td>\n      <td>307.007778</td>\n      <td>9</td>\n      <td>34.111975</td>\n      <td>2647.689779</td>\n    </tr>\n    <tr>\n      <th>12</th>\n      <td>Environment</td>\n      <td>0.000000e+00</td>\n      <td>0.0</td>\n      <td>0.0</td>\n      <td>0.0</td>\n      <td>0.0000</td>\n      <td>0.0</td>\n      <td>0.0</td>\n      <td>124.631667</td>\n      <td>21</td>\n      <td>5.934841</td>\n      <td>1135.086048</td>\n    </tr>\n  </tbody>\n</table>\n</div>"
     },
     "metadata": {},
     "execution_count": 16
    }
   ],
   "source": [
    "MTBF_MTTR_cat_cumul = MTBF_MTTR_cat.merge(MTBF_MTTR_cat_prev_cumul, on=['Catégorie'], how='outer').fillna(0)\n",
    "MTBF_MTTR_cat_cumul"
   ]
  },
  {
   "cell_type": "code",
   "execution_count": 17,
   "metadata": {},
   "outputs": [],
   "source": [
    "# Generate the new calculated MTTBF and MTTR for each error group\n",
    "\n",
    "temps_total_cumul = len(pd.date_range(\n",
    "    f'{period_year}-01-01', f'{lastday_period}', freq='D'))*24*131\n",
    "\n",
    "duree_cumul = MTBF_MTTR_cat_cumul['Durée Alarme'] + \\\n",
    "    MTBF_MTTR_cat_cumul['MTBF (Temps d\\'arrêt)']/3600\n",
    "\n",
    "MTBF_MTTR_cat_cumul['Durée Alarme'] = duree_cumul\n",
    "\n",
    "freq_cumul = MTBF_MTTR_cat_cumul['MTBF (Nombre d\\'arrêts)'] + \\\n",
    "    MTBF_MTTR_cat_cumul['Fréquence Alarme']\n",
    "\n",
    "MTBF_MTTR_cat_cumul['Fréquence Alarme'] = freq_cumul\n",
    "\n",
    "MTBF_MTTR_cat_cumul['MTBF en j'] = (\n",
    "    temps_total_cumul - duree_cumul) / (freq_cumul * 24)\n",
    "\n",
    "MTBF_MTTR_cat_cumul['MTTR en h'] = duree_cumul/freq_cumul"
   ]
  },
  {
   "cell_type": "code",
   "execution_count": 18,
   "metadata": {},
   "outputs": [],
   "source": [
    "df_ax4 =  MTBF_MTTR_cat_cumul[['Catégorie', 'MTTR en h', 'MTBF en j']]\n",
    "\n",
    "df_ax4.rename(columns={'MTTR en h': 'MTTR', 'MTBF en j': 'MTBF'}, inplace=True)"
   ]
  },
  {
   "cell_type": "code",
   "execution_count": 19,
   "metadata": {},
   "outputs": [],
   "source": [
    "MTBF_MTTR_cat_current_cumul = MTBF_MTTR_cat_cumul[[\n",
    "    'Catégorie', 'Durée Alarme', 'Fréquence Alarme', 'MTTR en h', 'MTBF en j']]\n",
    "\n",
    "MTBF_MTTR_cat_current_cumul.to_excel(\n",
    "    f'./input/{period}/MTBF & MTTR cumul.xlsx')"
   ]
  },
  {
   "cell_type": "code",
   "execution_count": 20,
   "metadata": {},
   "outputs": [],
   "source": [
    "duree_period = MTBF_MTTR_GLOBAL['MTBF (Temps d\\'arrêt)']/3600\n",
    "\n",
    "freq_period = MTBF_MTTR_GLOBAL['MTBF (Nombre d\\'arrêts)']\n",
    "\n",
    "mtbf_period = (days_in_period*24*131 - duree_period) / freq_period /24\n",
    "mttr_period = duree_period/freq_period"
   ]
  },
  {
   "cell_type": "code",
   "execution_count": 21,
   "metadata": {},
   "outputs": [
    {
     "output_type": "execute_result",
     "data": {
      "text/plain": "(39.283167497978354, 11.160979426312448)"
     },
     "metadata": {},
     "execution_count": 21
    }
   ],
   "source": [
    "last_mtbf_cumulee = float(input('last_mtbf_cumulee') or 37.718)\n",
    "last_mttr_cumulee = float(input('last_mttr_cumulee') or 11.2)\n",
    "\n",
    "\n",
    "mtbf_cumul = (last_mtbf_cumulee*days_to_previous_period + mtbf_period *\n",
    "              days_in_period)/(days_to_previous_period+days_in_period)\n",
    "\n",
    "mttr_cumul = (last_mttr_cumulee*days_to_previous_period + mttr_period *\n",
    "              days_in_period)/(days_to_previous_period+days_in_period)\n",
    "\n",
    "(mtbf_cumul, mttr_cumul)"
   ]
  },
  {
   "cell_type": "markdown",
   "metadata": {},
   "source": [
    "# df ax 19 Performance ratio "
   ]
  },
  {
   "cell_type": "code",
   "execution_count": 63,
   "metadata": {},
   "outputs": [],
   "source": [
    "\n",
    "df_ax19 = pd.read_html(f'./input/{period}/TAREC REPORTING.html', thousands=' ', decimal=',')[0]\n",
    "\n",
    "df_ax19['Turbine'] = df_ax19['Turbine'].str.extract(r'\\[[^\\d]*(\\d+)[^\\d]*\\]').values.astype(int)\n",
    "\n",
    "df_ax19 = df_ax19[['Turbine', 'Ratio']]\n",
    "\n",
    "df_ax19.Ratio.mean()\n",
    "\n",
    "last_ratio_cumul = input('last_ performance_ratio_cumul') or 94.846\n",
    "\n",
    "ratio_period = df_ax19.Ratio.mean()\n",
    "\n",
    "ratio_cumul = (last_ratio_cumul*days_to_previous_period + ratio_period*days_in_period)/(days_to_previous_period+days_in_period)"
   ]
  },
  {
   "cell_type": "markdown",
   "metadata": {
    "heading_collapsed": true
   },
   "source": [
    "# Calcul mois"
   ]
  },
  {
   "cell_type": "code",
   "execution_count": 23,
   "metadata": {
    "tags": []
   },
   "outputs": [
    {
     "output_type": "stream",
     "name": "stdout",
     "text": "DRIVER={Microsoft Access Driver (*.mdb, *.accdb)};DBQ=../DATA/SUM/2020-07-sum.mdb;\n../DATA/SUM/2020-07-sum.mdb Loaded\n"
    }
   ],
   "source": [
    "\n",
    "\n",
    "alarms = read_sum(period)\n",
    "\n",
    "results = pd.read_pickle(f'../DATA/results/{period}.pkl')\n",
    "\n",
    "alarms.rename(columns={'StationNr': 'StationId'}, inplace=True)\n",
    "\n",
    "alarms['StationId'] = alarms['StationId'] - 2307404\n",
    "results['StationId'] = results['StationId'] - 2307404\n",
    "\n"
   ]
  },
  {
   "cell_type": "code",
   "execution_count": 24,
   "metadata": {
    "hidden": true
   },
   "outputs": [],
   "source": [
    "# abbreviations\n",
    "Frame = pd.DataFrame\n",
    "c1 = 'Alarmcode'\n",
    "c2 = 'Error Group'\n",
    "\n",
    "error_group = pd.concat([Frame({c1: range(901, 2101), c2: 'System'}),\n",
    "                         Frame({c1: range(2101, 3000), c2: 'Generator'}),\n",
    "                         Frame({c1: range(3100, 4000), c2: 'Hub'}),\n",
    "                         Frame({c1: range(4100, 5000), c2: 'Gear'}),\n",
    "                         Frame({c1: range(5000, 6000), c2: 'Grid'}),\n",
    "                         Frame({c1: range(6100, 7000), c2: 'Rotor'}),\n",
    "                         Frame({c1: range(7100, 8000), c2: 'Hydraulics'}),\n",
    "                         Frame({c1: range(8000, 8400), c2: 'Environement'}),\n",
    "                         Frame({c1: range(8450, 9000),\n",
    "                                c2: 'Turbine cond...'}),\n",
    "                         Frame({c1: range(9100, 10000), c2: 'Brake'}),\n",
    "                         Frame({c1: range(10100, 11000), c2: 'Yaw'}),\n",
    "                         Frame({c1: range(11100, 12000), c2: 'PFC'}),\n",
    "                         Frame({c1: range(12100, 13000), c2: 'Transformer'}),\n",
    "                         Frame({c1: range(13000, 14000), c2: 'Converter-1'}),\n",
    "                         Frame({c1: range(14000, 15000), c2: 'Gen.inverter'}),\n",
    "                         Frame({c1: range(15000, 16000), c2: 'Grid inverter'}),\n",
    "                         Frame({c1: range(16000, 17000), c2: 'Main bearing'}),\n",
    "                         Frame({c1: range(17000, 18300), c2: 'Converter-2'}),\n",
    "                         Frame({c1: range(62001, 64000), c2: 'Controller'}),\n",
    "                         Frame({c1: range(64000, 65200), c2: 'MISCELLANEOUS'})])\n"
   ]
  },
  {
   "cell_type": "code",
   "execution_count": 25,
   "metadata": {
    "hidden": true
   },
   "outputs": [],
   "source": [
    "reorder = ['System',\n",
    "           'Generator',\n",
    "           'Hub',\n",
    "           'Gear',\n",
    "           'Grid',\n",
    "           'Rotor',\n",
    "           'Hydraulics',\n",
    "           'Environement',\n",
    "           'Turbine cond...',\n",
    "           'Brake',\n",
    "           'Yaw',\n",
    "           'PFC',\n",
    "           'Transformer',\n",
    "           'Converter-1',\n",
    "           'Gen.inverter',\n",
    "           'Grid inverter',\n",
    "           'Main bearing',\n",
    "           'Converter-2',\n",
    "           'Controller',\n",
    "           'MISCELLANEOUS']"
   ]
  },
  {
   "cell_type": "code",
   "execution_count": 26,
   "metadata": {
    "hidden": true
   },
   "outputs": [],
   "source": [
    "error_list = pd.read_excel(\n",
    "    r'Error_Type_List_Las_Update_151209.xlsx',\n",
    "    usecols=lambda x: x != 'Type Selected')\n",
    "\n",
    "error_list.Alarmcode = error_list.Alarmcode.astype(int)  # ,errors='ignore'\n",
    "\n",
    "error_list.drop_duplicates(subset=['Alarmcode'], inplace=True)\n",
    "\n",
    "error_list = error_list.merge(error_group, on='Alarmcode', how='left')\n",
    "\n",
    "# ------------------------------------------------------------------------\n",
    "''' label scada alarms with coresponding error type\n",
    "and only keep alarm codes in error list'''\n",
    "result_sum = pd.merge(alarms, error_list,\n",
    "                        on='Alarmcode',\n",
    "                        how='inner', sort=False)\n",
    "\n",
    "# Remove warnings\n",
    "result_sum = result_sum.loc[result_sum['Error Type'].isin([1, 0])]\n",
    "\n",
    "# apply cascade\n",
    "alarms_result_sum = apply_cascade(result_sum)\n",
    "\n",
    "# only keep  parent alarms\n",
    "parent_result_sum = alarms_result_sum.query('TimeOn == NewTimeOn')\n",
    "\n",
    "# dash duree\n",
    "main_result_sum = alarms_result_sum.query('RealPeriod > @pd.Timedelta(0)')\n",
    "# main_result_sum['ALL duree'] = main_result_sum['TimeOff'] -main_result_sum['TimeOn']"
   ]
  },
  {
   "cell_type": "code",
   "execution_count": 27,
   "metadata": {},
   "outputs": [
    {
     "output_type": "execute_result",
     "data": {
      "text/plain": "                       TimeOn                 TimeOff  StationId  Alarmcode  \\\n0     2020-07-01 00:00:05.627 2020-07-01 00:14:47.009         38      50950   \n1     2020-07-01 00:00:05.662 2020-07-01 00:15:08.699         40      50950   \n2     2020-07-01 00:00:06.122 2020-07-01 00:15:14.302         44      50950   \n3     2020-07-01 00:00:06.600 2020-07-01 00:15:15.960         46      50950   \n4     2020-07-01 00:04:55.050                     NaT         16        127   \n...                       ...                     ...        ...        ...   \n54804 2020-07-31 23:57:01.040                     NaT          6        127   \n54805 2020-07-31 23:58:34.020                     NaT         84         67   \n54806 2020-07-31 23:58:34.030                     NaT         84         68   \n54807 2020-07-31 23:58:34.039                     NaT         84         69   \n54808 2020-07-31 23:58:34.049                     NaT         84         61   \n\n            ID                                          Parameter  \n0      3033277                                                ...  \n1      3033278                                                ...  \n2      3033279                                                ...  \n3      3033280                                                ...  \n4      3033281                                                ...  \n...        ...                                                ...  \n54804  3088898                                                ...  \n54805  3088899           2.7                                  ...  \n54806  3088900           485                                  ...  \n54807  3088901          21.0                                  ...  \n54808  3088902  Out Of Range                                  ...  \n\n[54809 rows x 6 columns]",
      "text/html": "<div>\n<style scoped>\n    .dataframe tbody tr th:only-of-type {\n        vertical-align: middle;\n    }\n\n    .dataframe tbody tr th {\n        vertical-align: top;\n    }\n\n    .dataframe thead th {\n        text-align: right;\n    }\n</style>\n<table border=\"1\" class=\"dataframe\">\n  <thead>\n    <tr style=\"text-align: right;\">\n      <th></th>\n      <th>TimeOn</th>\n      <th>TimeOff</th>\n      <th>StationId</th>\n      <th>Alarmcode</th>\n      <th>ID</th>\n      <th>Parameter</th>\n    </tr>\n  </thead>\n  <tbody>\n    <tr>\n      <th>0</th>\n      <td>2020-07-01 00:00:05.627</td>\n      <td>2020-07-01 00:14:47.009</td>\n      <td>38</td>\n      <td>50950</td>\n      <td>3033277</td>\n      <td>...</td>\n    </tr>\n    <tr>\n      <th>1</th>\n      <td>2020-07-01 00:00:05.662</td>\n      <td>2020-07-01 00:15:08.699</td>\n      <td>40</td>\n      <td>50950</td>\n      <td>3033278</td>\n      <td>...</td>\n    </tr>\n    <tr>\n      <th>2</th>\n      <td>2020-07-01 00:00:06.122</td>\n      <td>2020-07-01 00:15:14.302</td>\n      <td>44</td>\n      <td>50950</td>\n      <td>3033279</td>\n      <td>...</td>\n    </tr>\n    <tr>\n      <th>3</th>\n      <td>2020-07-01 00:00:06.600</td>\n      <td>2020-07-01 00:15:15.960</td>\n      <td>46</td>\n      <td>50950</td>\n      <td>3033280</td>\n      <td>...</td>\n    </tr>\n    <tr>\n      <th>4</th>\n      <td>2020-07-01 00:04:55.050</td>\n      <td>NaT</td>\n      <td>16</td>\n      <td>127</td>\n      <td>3033281</td>\n      <td>...</td>\n    </tr>\n    <tr>\n      <th>...</th>\n      <td>...</td>\n      <td>...</td>\n      <td>...</td>\n      <td>...</td>\n      <td>...</td>\n      <td>...</td>\n    </tr>\n    <tr>\n      <th>54804</th>\n      <td>2020-07-31 23:57:01.040</td>\n      <td>NaT</td>\n      <td>6</td>\n      <td>127</td>\n      <td>3088898</td>\n      <td>...</td>\n    </tr>\n    <tr>\n      <th>54805</th>\n      <td>2020-07-31 23:58:34.020</td>\n      <td>NaT</td>\n      <td>84</td>\n      <td>67</td>\n      <td>3088899</td>\n      <td>2.7                                  ...</td>\n    </tr>\n    <tr>\n      <th>54806</th>\n      <td>2020-07-31 23:58:34.030</td>\n      <td>NaT</td>\n      <td>84</td>\n      <td>68</td>\n      <td>3088900</td>\n      <td>485                                  ...</td>\n    </tr>\n    <tr>\n      <th>54807</th>\n      <td>2020-07-31 23:58:34.039</td>\n      <td>NaT</td>\n      <td>84</td>\n      <td>69</td>\n      <td>3088901</td>\n      <td>21.0                                  ...</td>\n    </tr>\n    <tr>\n      <th>54808</th>\n      <td>2020-07-31 23:58:34.049</td>\n      <td>NaT</td>\n      <td>84</td>\n      <td>61</td>\n      <td>3088902</td>\n      <td>Out Of Range                                  ...</td>\n    </tr>\n  </tbody>\n</table>\n<p>54809 rows × 6 columns</p>\n</div>"
     },
     "metadata": {},
     "execution_count": 27
    }
   ],
   "source": [
    "alarms"
   ]
  },
  {
   "cell_type": "markdown",
   "metadata": {
    "hidden": true
   },
   "source": [
    "## Graphe 3 ax5"
   ]
  },
  {
   "cell_type": "code",
   "execution_count": 28,
   "metadata": {
    "hidden": true
   },
   "outputs": [],
   "source": [
    "df_ax5 = (main_result_sum.groupby('Error Group')\n",
    "                  .agg(Freq=('Alarmcode', 'count'),\n",
    "                       Durée=('RealPeriod', lambda x: x.sum().total_seconds()/3600))\n",
    "                  .reindex(reorder)\n",
    "                  .dropna()\n",
    "                  .reset_index()\n",
    "                  )\n",
    "\n",
    "# df_ax5.plot(kind='bar', x='Error Group', ax=ax5)"
   ]
  },
  {
   "cell_type": "markdown",
   "metadata": {
    "hidden": true
   },
   "source": [
    "## Graphe 4 ax6"
   ]
  },
  {
   "cell_type": "code",
   "execution_count": 29,
   "metadata": {
    "hidden": true
   },
   "outputs": [],
   "source": [
    "df_ax6 = (main_result_sum.groupby('Alarmcode')\n",
    "                .agg(Freq=('Alarmcode', 'count'),\n",
    "                     Durée=('RealPeriod',\n",
    "                               lambda x: x.sum().total_seconds()/3600))\n",
    "                .sort_values('Durée', ascending=False)\n",
    "                .head(20)\n",
    "                .reset_index()\n",
    "                .sort_values('Durée', ascending=False))\n",
    "\n",
    "# df_ax6.plot(kind='bar', x='Alarmcode', ax=ax6)\n"
   ]
  },
  {
   "cell_type": "markdown",
   "metadata": {},
   "source": [
    "## ax7"
   ]
  },
  {
   "cell_type": "code",
   "execution_count": 30,
   "metadata": {},
   "outputs": [],
   "source": [
    "\n",
    "most_categories = main_result_sum.groupby('Error Group').agg({'RealPeriod': np.sum}).sort_values('RealPeriod').tail(4).index.values\n",
    "df_most_categories = main_result_sum.loc[main_result_sum['Error Group'].isin(most_categories)]\n",
    "df_most_categories\n",
    "\n",
    "\n",
    "# ------------------------------------------------------------------------------------------------\n",
    "def extract_important_alarms(df):\n",
    "\n",
    "    df = df.groupby('Alarmcode').agg({'RealPeriod': np.sum}).reset_index()\n",
    "    df['percentage'] = 100 * df['RealPeriod'] / df['RealPeriod'].sum()\n",
    "    df.sort_values('percentage', ascending=False, inplace=True)\n",
    "    df['percentage roll'] = df['percentage'].cumsum()\n",
    "\n",
    "    for i in range(1,100):\n",
    "        if len(df.query('`percentage roll` < @i')) < 3:\n",
    "            continue\n",
    "        else:\n",
    "            df = df.query('`percentage roll` < @i')\n",
    "        break\n",
    "\n",
    "    return df\n",
    "\n",
    "# ------------------------------------------------------------------------------------------------\n",
    "\n",
    "df = df_most_categories.query('`Error Group` == \"Converter-1\"')\n",
    "\n",
    "df = df.groupby('Alarmcode').agg({'RealPeriod': np.sum}).reset_index()\n",
    "df['percentage'] = 100 * df['RealPeriod'] / df['RealPeriod'].sum()\n",
    "df.sort_values('percentage', ascending=False, inplace=True)\n",
    "df.reset_index(inplace=True, drop=True)\n",
    "df['percentage roll'] = df['percentage'].cumsum()\n",
    "df\n",
    "\n",
    "# ------------------------------------------------------------------------------------------------\n",
    "\n",
    "df_ax7 = (df_most_categories.groupby('Error Group')\n",
    "                             .apply(lambda x: extract_important_alarms(x))\n",
    "                             .reset_index()\n",
    "                             .merge(error_list[['UK Text', 'Alarmcode']]))\n",
    "\n",
    "df_ax7 = (df_most_categories.groupby('Error Group')\n",
    "                             .apply(lambda x: (x.groupby('Alarmcode')\n",
    "                                                .agg({'RealPeriod': np.sum})\n",
    "                                                .sort_values('RealPeriod')\n",
    "                                                .tail(4)))\n",
    "                             .reset_index()\n",
    "                             .merge(error_list[['UK Text', 'Alarmcode']]))\n",
    "\n",
    "df_ax7\n",
    "# ------------------------------------------------------------------------------------------------\n",
    "ax_7 = '''\n",
    "\n",
    "Les alarmes \"System\" les plus importantes sont \n",
    "    - \"1001 - Manual Stop\"  afin de permettre les travaux curatifs SGRE.\n",
    "    - \"1007 - Remote Stop Owner\" elle a été activée afin de permettre l'entretien des PPDMs.\n",
    "\n",
    "Les arrêts \"hub\" \" sont causés par\n",
    "    - \"3130 - pitch lubrification\".\n",
    "\n",
    "Les arrêts \"Yaw\" sont liés aux alarmes\n",
    "    - \"10100 - Yaw motor superhearted\" et\n",
    "    - \"10401 - yaw fail stopped\"\n",
    "\n",
    "Les arrêts \"Controller\" sont déclanchés à cause du déchargement des UPS dans\n",
    "les turbines.\n",
    "\n",
    "Le MTBF le moins bon du mois est celui de la catégorie \"Yaw\" :  126 jours\n",
    "'''"
   ]
  },
  {
   "cell_type": "markdown",
   "metadata": {
    "hidden": true
   },
   "source": [
    "## Graph 6 ax9"
   ]
  },
  {
   "cell_type": "code",
   "execution_count": 31,
   "metadata": {
    "hidden": true
   },
   "outputs": [],
   "source": [
    "df_ax9 = pd.merge(\n",
    "        (results.groupby('StationId')\n",
    "                       .agg(**{'Durée alarmes': ('Duration 115(s)', lambda x: x.sum()/3600),\n",
    "                               'Durée autres': ('Duration 20-25(s)', lambda x: x.sum()/3600)})\n",
    "                       .sort_values('Durée alarmes', ascending=False)\n",
    "                 # .head(25)\n",
    "                 .reset_index()\n",
    "         ),\n",
    "         (alarms.groupby('StationId')\n",
    "                      .agg(**{'Freq alarmes': ('Alarmcode', lambda x: int(x[x == 115].count()/2)),\n",
    "                              'Freq autres': ('Alarmcode', lambda x: x[x == 20].count())})\n",
    "                      .reset_index()\n",
    "         ),\n",
    "         on='StationId'\n",
    "        ).sort_values('Durée alarmes', ascending=False).head(20)\n",
    "\n",
    "\n",
    "df_ax9['Duration_20_25 reel'] = df_ax9['Durée autres']\n",
    "df_ax9['Durée autres'] = df_ax9['Duration_20_25 reel'] - df_ax9['Durée alarmes']\n",
    "# df_ax9.plot(kind='bar', x='StationId', ax=ax9)"
   ]
  },
  {
   "cell_type": "markdown",
   "metadata": {
    "hidden": true
   },
   "source": [
    "## Graphe 7 ax10"
   ]
  },
  {
   "cell_type": "code",
   "execution_count": 32,
   "metadata": {
    "hidden": true
   },
   "outputs": [],
   "source": [
    "df_ax10 = (results[['StationId','ELNX', 'EL_indefini_left']]\n",
    "                .groupby('StationId')\n",
    "                .sum()\n",
    "                .sort_values('ELNX', ascending=False)\n",
    "                .head(20)\n",
    "                .reset_index())\n",
    "\n",
    "df_ax10 = round(df_ax10, 2).abs().head(20)"
   ]
  },
  {
   "cell_type": "code",
   "execution_count": 33,
   "metadata": {},
   "outputs": [
    {
     "output_type": "execute_result",
     "data": {
      "text/plain": "    StationId       ELNX  EL_indefini_left\n0        34.0  170329.87              0.00\n1       102.0  132365.66            649.34\n2       104.0  112219.73             83.40\n3        25.0  102515.07              0.00\n4        82.0   95537.17            361.23\n5        52.0   94333.61              0.00\n6        39.0   86754.60            237.91\n7         5.0   86093.51             31.06\n8         2.0   81338.69              0.00\n9       110.0   75563.89            253.04\n10       79.0   70980.32            317.86\n11       99.0   69781.60            118.82\n12      131.0   60297.05            208.36\n13       26.0   59930.58              0.00\n14      100.0   59747.56             48.23\n15       32.0   59570.94          51132.20\n16       16.0   59260.17             87.06\n17      101.0   58860.17              0.00\n18       24.0   57086.68              0.00\n19       86.0   53111.44            326.91",
      "text/html": "<div>\n<style scoped>\n    .dataframe tbody tr th:only-of-type {\n        vertical-align: middle;\n    }\n\n    .dataframe tbody tr th {\n        vertical-align: top;\n    }\n\n    .dataframe thead th {\n        text-align: right;\n    }\n</style>\n<table border=\"1\" class=\"dataframe\">\n  <thead>\n    <tr style=\"text-align: right;\">\n      <th></th>\n      <th>StationId</th>\n      <th>ELNX</th>\n      <th>EL_indefini_left</th>\n    </tr>\n  </thead>\n  <tbody>\n    <tr>\n      <th>0</th>\n      <td>34.0</td>\n      <td>170329.87</td>\n      <td>0.00</td>\n    </tr>\n    <tr>\n      <th>1</th>\n      <td>102.0</td>\n      <td>132365.66</td>\n      <td>649.34</td>\n    </tr>\n    <tr>\n      <th>2</th>\n      <td>104.0</td>\n      <td>112219.73</td>\n      <td>83.40</td>\n    </tr>\n    <tr>\n      <th>3</th>\n      <td>25.0</td>\n      <td>102515.07</td>\n      <td>0.00</td>\n    </tr>\n    <tr>\n      <th>4</th>\n      <td>82.0</td>\n      <td>95537.17</td>\n      <td>361.23</td>\n    </tr>\n    <tr>\n      <th>5</th>\n      <td>52.0</td>\n      <td>94333.61</td>\n      <td>0.00</td>\n    </tr>\n    <tr>\n      <th>6</th>\n      <td>39.0</td>\n      <td>86754.60</td>\n      <td>237.91</td>\n    </tr>\n    <tr>\n      <th>7</th>\n      <td>5.0</td>\n      <td>86093.51</td>\n      <td>31.06</td>\n    </tr>\n    <tr>\n      <th>8</th>\n      <td>2.0</td>\n      <td>81338.69</td>\n      <td>0.00</td>\n    </tr>\n    <tr>\n      <th>9</th>\n      <td>110.0</td>\n      <td>75563.89</td>\n      <td>253.04</td>\n    </tr>\n    <tr>\n      <th>10</th>\n      <td>79.0</td>\n      <td>70980.32</td>\n      <td>317.86</td>\n    </tr>\n    <tr>\n      <th>11</th>\n      <td>99.0</td>\n      <td>69781.60</td>\n      <td>118.82</td>\n    </tr>\n    <tr>\n      <th>12</th>\n      <td>131.0</td>\n      <td>60297.05</td>\n      <td>208.36</td>\n    </tr>\n    <tr>\n      <th>13</th>\n      <td>26.0</td>\n      <td>59930.58</td>\n      <td>0.00</td>\n    </tr>\n    <tr>\n      <th>14</th>\n      <td>100.0</td>\n      <td>59747.56</td>\n      <td>48.23</td>\n    </tr>\n    <tr>\n      <th>15</th>\n      <td>32.0</td>\n      <td>59570.94</td>\n      <td>51132.20</td>\n    </tr>\n    <tr>\n      <th>16</th>\n      <td>16.0</td>\n      <td>59260.17</td>\n      <td>87.06</td>\n    </tr>\n    <tr>\n      <th>17</th>\n      <td>101.0</td>\n      <td>58860.17</td>\n      <td>0.00</td>\n    </tr>\n    <tr>\n      <th>18</th>\n      <td>24.0</td>\n      <td>57086.68</td>\n      <td>0.00</td>\n    </tr>\n    <tr>\n      <th>19</th>\n      <td>86.0</td>\n      <td>53111.44</td>\n      <td>326.91</td>\n    </tr>\n  </tbody>\n</table>\n</div>"
     },
     "metadata": {},
     "execution_count": 33
    }
   ],
   "source": [
    "df_ax10"
   ]
  },
  {
   "cell_type": "markdown",
   "metadata": {
    "hidden": true
   },
   "source": [
    "## table 1 ax1 row 2"
   ]
  },
  {
   "cell_type": "code",
   "execution_count": 59,
   "metadata": {
    "hidden": true
   },
   "outputs": [],
   "source": [
    "\n",
    "df_ax1 = pd.DataFrame(columns=['LTA-Lost Time', 'Indispo. Total %','Indispo. Tarec %', 'Indispo. Siemens %', 'Indispo. ONEE %', 'Indispo. Ebop %',\n",
    "                               'Pertes élctriques en MWh', 'Power Boost en MWh', 'Performance moyenne des turbines',\n",
    "                               'MTBF - Mean Time Between Failure', 'MTTR - Mean Time To Repair', 'MTTI - Mean Time To Intervention',\n",
    "                               'Compteurs ONEE MWh'],\n",
    "                     index=['Indicateurs annuels :', f'Indicateurs du mois {period} :'])\n",
    "df_ax1 = df_ax1.fillna(0.)"
   ]
  },
  {
   "cell_type": "code",
   "execution_count": 60,
   "metadata": {
    "hidden": true
   },
   "outputs": [],
   "source": [
    "df_ax1.iat[1, 1] = round(100*results['RealPeriod'].sum()/3600/24/131/31,2)\n",
    "df_ax1.iat[1, 2] = round(100*results['Period 0(s)'].sum()/3600/24/131/31,2)\n",
    "df_ax1.iat[1, 3] = round(100*results['Period 1(s)'].sum()/3600/24/131/31,2)\n",
    "\n",
    "df_ax1.iat[1, 6] = round(results.wtc_ActPower_mean.sum()/6/1000 - onee_period,2)\n",
    "\n",
    "df_ax1.iat[1, 7] = boost_period\n",
    "\n",
    "df_ax1.iat[1, 8] = ratio_period\n",
    "\n",
    "df_ax1.iat[1, 9]  = mtbf_period\n",
    "df_ax1.iat[1, 10] = mttr_period\n",
    "df_ax1.iat[1, 11] = mtti_period\n",
    "df_ax1.iat[1, 12] = onee_period\n",
    "\n",
    "\n",
    "# results.wtc_kWG1TotE_accum.sum() - results.wtc_kWG1Tot_accum.sum()\n",
    "# results.wtc_ActPower_mean.sum()/6 - results.wtc_kWG1Tot_accum.sum()\n",
    "\n"
   ]
  },
  {
   "cell_type": "code",
   "execution_count": 61,
   "metadata": {
    "hidden": true
   },
   "outputs": [
    {
     "output_type": "execute_result",
     "data": {
      "text/plain": "                               LTA-Lost Time  Indispo. Total %  \\\nIndicateurs annuels :                    0.0              0.00   \nIndicateurs du mois 2020-07 :            0.0              1.79   \n\n                               Indispo. Tarec %  Indispo. Siemens %  \\\nIndicateurs annuels :                       0.0                0.00   \nIndicateurs du mois 2020-07 :               0.2                1.59   \n\n                               Indispo. ONEE %  Indispo. Ebop %  \\\nIndicateurs annuels :                      0.0              0.0   \nIndicateurs du mois 2020-07 :              0.0              0.0   \n\n                               Pertes élctriques en MWh  Power Boost en MWh  \\\nIndicateurs annuels :                              0.00            0.000000   \nIndicateurs du mois 2020-07 :                   4271.14         2929.048547   \n\n                               Performance moyenne des turbines  \\\nIndicateurs annuels :                                       0.0   \nIndicateurs du mois 2020-07 :                               0.0   \n\n                               MTBF - Mean Time Between Failure  \\\nIndicateurs annuels :                                  0.000000   \nIndicateurs du mois 2020-07 :                         48.472215   \n\n                               MTTR - Mean Time To Repair  \\\nIndicateurs annuels :                            0.000000   \nIndicateurs du mois 2020-07 :                   10.931891   \n\n                               MTTI - Mean Time To Intervention  \nIndicateurs annuels :                                     0.000  \nIndicateurs du mois 2020-07 :                             7.875  ",
      "text/html": "<div>\n<style scoped>\n    .dataframe tbody tr th:only-of-type {\n        vertical-align: middle;\n    }\n\n    .dataframe tbody tr th {\n        vertical-align: top;\n    }\n\n    .dataframe thead th {\n        text-align: right;\n    }\n</style>\n<table border=\"1\" class=\"dataframe\">\n  <thead>\n    <tr style=\"text-align: right;\">\n      <th></th>\n      <th>LTA-Lost Time</th>\n      <th>Indispo. Total %</th>\n      <th>Indispo. Tarec %</th>\n      <th>Indispo. Siemens %</th>\n      <th>Indispo. ONEE %</th>\n      <th>Indispo. Ebop %</th>\n      <th>Pertes élctriques en MWh</th>\n      <th>Power Boost en MWh</th>\n      <th>Performance moyenne des turbines</th>\n      <th>MTBF - Mean Time Between Failure</th>\n      <th>MTTR - Mean Time To Repair</th>\n      <th>MTTI - Mean Time To Intervention</th>\n    </tr>\n  </thead>\n  <tbody>\n    <tr>\n      <th>Indicateurs annuels :</th>\n      <td>0.0</td>\n      <td>0.00</td>\n      <td>0.0</td>\n      <td>0.00</td>\n      <td>0.0</td>\n      <td>0.0</td>\n      <td>0.00</td>\n      <td>0.000000</td>\n      <td>0.0</td>\n      <td>0.000000</td>\n      <td>0.000000</td>\n      <td>0.000</td>\n    </tr>\n    <tr>\n      <th>Indicateurs du mois 2020-07 :</th>\n      <td>0.0</td>\n      <td>1.79</td>\n      <td>0.2</td>\n      <td>1.59</td>\n      <td>0.0</td>\n      <td>0.0</td>\n      <td>4271.14</td>\n      <td>2929.048547</td>\n      <td>0.0</td>\n      <td>48.472215</td>\n      <td>10.931891</td>\n      <td>7.875</td>\n    </tr>\n  </tbody>\n</table>\n</div>"
     },
     "metadata": {},
     "execution_count": 61
    }
   ],
   "source": [
    "df_ax1"
   ]
  },
  {
   "cell_type": "markdown",
   "metadata": {
    "hidden": true
   },
   "source": [
    "## table 2 ax2"
   ]
  },
  {
   "cell_type": "code",
   "execution_count": 38,
   "metadata": {
    "hidden": true
   },
   "outputs": [],
   "source": [
    "\n",
    "df_ax2_header = ['', '', '', 'Travaux de maintenance']\n",
    "df_ax2 = pd.DataFrame(columns=['Transformateur', 'Serial Defect', 'Corrosion', 'Inspection Fin de garantie',\n",
    "                               'FSA', 'Assurance', 'Conformité DNSSI', 'Main Bearing', 'BAX', 'Darwin',\n",
    "                               'Procédure de securité', 'SMI', 'Exploitation', 'Mesures', 'Audit ENGIE'],\n",
    "                     index=['Etape terminée', 'Etape en cours'])"
   ]
  },
  {
   "cell_type": "code",
   "execution_count": 39,
   "metadata": {
    "hidden": true
   },
   "outputs": [
    {
     "output_type": "execute_result",
     "data": {
      "text/plain": "               Transformateur Serial Defect Corrosion  \\\nEtape terminée            NaN           NaN       NaN   \nEtape en cours            NaN           NaN       NaN   \n\n               Inspection Fin de garantie  FSA Assurance Conformité DNSSI  \\\nEtape terminée                        NaN  NaN       NaN              NaN   \nEtape en cours                        NaN  NaN       NaN              NaN   \n\n               Main Bearing  BAX Darwin Procédure de securité  SMI  \\\nEtape terminée          NaN  NaN    NaN                   NaN  NaN   \nEtape en cours          NaN  NaN    NaN                   NaN  NaN   \n\n               Exploitation Mesures Audit ENGIE  \nEtape terminée          NaN     NaN         NaN  \nEtape en cours          NaN     NaN         NaN  ",
      "text/html": "<div>\n<style scoped>\n    .dataframe tbody tr th:only-of-type {\n        vertical-align: middle;\n    }\n\n    .dataframe tbody tr th {\n        vertical-align: top;\n    }\n\n    .dataframe thead th {\n        text-align: right;\n    }\n</style>\n<table border=\"1\" class=\"dataframe\">\n  <thead>\n    <tr style=\"text-align: right;\">\n      <th></th>\n      <th>Transformateur</th>\n      <th>Serial Defect</th>\n      <th>Corrosion</th>\n      <th>Inspection Fin de garantie</th>\n      <th>FSA</th>\n      <th>Assurance</th>\n      <th>Conformité DNSSI</th>\n      <th>Main Bearing</th>\n      <th>BAX</th>\n      <th>Darwin</th>\n      <th>Procédure de securité</th>\n      <th>SMI</th>\n      <th>Exploitation</th>\n      <th>Mesures</th>\n      <th>Audit ENGIE</th>\n    </tr>\n  </thead>\n  <tbody>\n    <tr>\n      <th>Etape terminée</th>\n      <td>NaN</td>\n      <td>NaN</td>\n      <td>NaN</td>\n      <td>NaN</td>\n      <td>NaN</td>\n      <td>NaN</td>\n      <td>NaN</td>\n      <td>NaN</td>\n      <td>NaN</td>\n      <td>NaN</td>\n      <td>NaN</td>\n      <td>NaN</td>\n      <td>NaN</td>\n      <td>NaN</td>\n      <td>NaN</td>\n    </tr>\n    <tr>\n      <th>Etape en cours</th>\n      <td>NaN</td>\n      <td>NaN</td>\n      <td>NaN</td>\n      <td>NaN</td>\n      <td>NaN</td>\n      <td>NaN</td>\n      <td>NaN</td>\n      <td>NaN</td>\n      <td>NaN</td>\n      <td>NaN</td>\n      <td>NaN</td>\n      <td>NaN</td>\n      <td>NaN</td>\n      <td>NaN</td>\n      <td>NaN</td>\n    </tr>\n  </tbody>\n</table>\n</div>"
     },
     "metadata": {},
     "execution_count": 39
    }
   ],
   "source": [
    "df_ax2"
   ]
  },
  {
   "cell_type": "markdown",
   "metadata": {
    "heading_collapsed": true
   },
   "source": [
    "# Calcul Cumul"
   ]
  },
  {
   "cell_type": "code",
   "execution_count": 40,
   "metadata": {
    "hidden": true,
    "tags": []
   },
   "outputs": [
    {
     "output_type": "stream",
     "name": "stdout",
     "text": "DRIVER={Microsoft Access Driver (*.mdb, *.accdb)};DBQ=../DATA/SUM/2020-01-sum.mdb;\n../DATA/SUM/2020-01-sum.mdb Loaded\nDRIVER={Microsoft Access Driver (*.mdb, *.accdb)};DBQ=../DATA/SUM/2020-02-sum.mdb;\n../DATA/SUM/2020-02-sum.mdb Loaded\nDRIVER={Microsoft Access Driver (*.mdb, *.accdb)};DBQ=../DATA/SUM/2020-03-sum.mdb;\n../DATA/SUM/2020-03-sum.mdb Loaded\nDRIVER={Microsoft Access Driver (*.mdb, *.accdb)};DBQ=../DATA/SUM/2020-04-sum.mdb;\n../DATA/SUM/2020-04-sum.mdb Loaded\nDRIVER={Microsoft Access Driver (*.mdb, *.accdb)};DBQ=../DATA/SUM/2020-05-sum.mdb;\n../DATA/SUM/2020-05-sum.mdb Loaded\nDRIVER={Microsoft Access Driver (*.mdb, *.accdb)};DBQ=../DATA/SUM/2020-06-sum.mdb;\n../DATA/SUM/2020-06-sum.mdb Loaded\nDRIVER={Microsoft Access Driver (*.mdb, *.accdb)};DBQ=../DATA/SUM/2020-07-sum.mdb;\n../DATA/SUM/2020-07-sum.mdb Loaded\n"
    }
   ],
   "source": [
    "cumul_alarms = pd.DataFrame()\n",
    "cumul_results = pd.DataFrame()\n",
    "\n",
    "for month in range(1, 8):\n",
    "\n",
    "    month = str(month)\n",
    "\n",
    "    alarms = read_sum(f'2020-{month.zfill(2)}')\n",
    "    cumul_alarms = pd.concat([cumul_alarms, alarms])\n",
    "    # -------------------------------------------------------------------------\n",
    "    results = pd.read_pickle(f'../DATA/results/2020-{month.zfill(2)}.pkl')\n",
    "    # results = results[['StationId', 'ELNX', 'Duration 115(s)', 'Duration 20-25(s)',\n",
    "    #                    'Period 0(s)', 'Period 1(s)', 'RealPeriod',\n",
    "    #                    'EL_indefini_left']]\n",
    "    cumul_results = pd.concat([cumul_results, results])\n"
   ]
  },
  {
   "cell_type": "code",
   "execution_count": 42,
   "metadata": {
    "hidden": true
   },
   "outputs": [],
   "source": [
    "cumul_alarms.rename(columns={'StationNr': 'StationId'}, inplace=True)\n",
    "\n",
    "# only run once otherwise negative turbine numbers\n",
    "cumul_alarms['StationId'] = cumul_alarms['StationId'] - 2307404\n",
    "cumul_results['StationId'] = cumul_results['StationId'] - 2307404"
   ]
  },
  {
   "cell_type": "code",
   "execution_count": 43,
   "metadata": {
    "hidden": true
   },
   "outputs": [],
   "source": [
    "cumul_result_sum = pd.merge(cumul_alarms, error_list[[\n",
    "                        'Alarmcode', 'Error Type', 'Error Group']],\n",
    "                        on='Alarmcode',\n",
    "                        how='inner', sort=False)\n",
    "\n",
    "# Remove warnings\n",
    "cumul_result_sum = cumul_result_sum.loc[cumul_result_sum['Error Type'].isin([1, 0])]\n",
    "\n",
    "# apply cascade\n",
    "cumul_alarms_result_sum = apply_cascade(cumul_result_sum)\n",
    "\n",
    "#only keep  parent alarms\n",
    "cumul_parent_result_sum = cumul_alarms_result_sum.query('TimeOn\t == NewTimeOn')\n",
    "  \n",
    "cumul_main_result_sum = cumul_alarms_result_sum.query('RealPeriod > @pd.Timedelta(0)')"
   ]
  },
  {
   "cell_type": "markdown",
   "metadata": {
    "hidden": true
   },
   "source": [
    "## Table 2 ax1 row 1"
   ]
  },
  {
   "cell_type": "code",
   "execution_count": 64,
   "metadata": {
    "hidden": true
   },
   "outputs": [],
   "source": [
    "nbr_jrs_total = len(pd.date_range(f'{period_year}-01-01', f'{lastday_period}', freq='D'))\n",
    "\n",
    "df_ax1.iat[0, 1] = round(100*cumul_results['RealPeriod'].sum()/3600/24/131/nbr_jrs_total,2)\n",
    "df_ax1.iat[0, 2] = round(100*cumul_results['Period 0(s)'].sum()/3600/24/131/nbr_jrs_total,2)\n",
    "df_ax1.iat[0, 3] = round(100*cumul_results['Period 1(s)'].sum()/3600/24/131/nbr_jrs_total,2)\n",
    "\n",
    "df_ax1.iat[0, 6] = round(cumul_results.wtc_ActPower_mean.sum()/6/1000 - last_onee_cumul,2)\n",
    "\n",
    "df_ax1.iat[0, 7] = boost_cumul\n",
    "\n",
    "df_ax1.iat[0, 8] = ratio_cumul\n",
    "\n",
    "df_ax1.iat[0, 9] =  mtbf_cumul\n",
    "df_ax1.iat[0, 10] = mttr_cumul\n",
    "df_ax1.iat[0, 11] = mtti_cumul\n",
    "df_ax1.iat[1, 12] = onee_cumul\n",
    "\n"
   ]
  },
  {
   "cell_type": "code",
   "execution_count": 65,
   "metadata": {
    "hidden": true
   },
   "outputs": [
    {
     "output_type": "execute_result",
     "data": {
      "text/plain": "                               LTA-Lost Time  Indispo. Total %  \\\nIndicateurs annuels :                    0.0              2.85   \nIndicateurs du mois 2020-07 :            0.0              1.79   \n\n                               Indispo. Tarec %  Indispo. Siemens %  \\\nIndicateurs annuels :                      0.71                2.14   \nIndicateurs du mois 2020-07 :              0.20                1.59   \n\n                               Indispo. ONEE %  Indispo. Ebop %  \\\nIndicateurs annuels :                      0.0              0.0   \nIndicateurs du mois 2020-07 :              0.0              0.0   \n\n                               Pertes élctriques en MWh  Power Boost en MWh  \\\nIndicateurs annuels :                          14647.50         6387.148547   \nIndicateurs du mois 2020-07 :                   4271.14         2929.048547   \n\n                               Performance moyenne des turbines  \\\nIndicateurs annuels :                                 96.341666   \nIndicateurs du mois 2020-07 :                          0.000000   \n\n                               MTBF - Mean Time Between Failure  \\\nIndicateurs annuels :                                 39.283167   \nIndicateurs du mois 2020-07 :                         48.472215   \n\n                               MTTR - Mean Time To Repair  \\\nIndicateurs annuels :                           11.160979   \nIndicateurs du mois 2020-07 :                   10.931891   \n\n                               MTTI - Mean Time To Intervention  \nIndicateurs annuels :                                  8.084343  \nIndicateurs du mois 2020-07 :                          7.875000  ",
      "text/html": "<div>\n<style scoped>\n    .dataframe tbody tr th:only-of-type {\n        vertical-align: middle;\n    }\n\n    .dataframe tbody tr th {\n        vertical-align: top;\n    }\n\n    .dataframe thead th {\n        text-align: right;\n    }\n</style>\n<table border=\"1\" class=\"dataframe\">\n  <thead>\n    <tr style=\"text-align: right;\">\n      <th></th>\n      <th>LTA-Lost Time</th>\n      <th>Indispo. Total %</th>\n      <th>Indispo. Tarec %</th>\n      <th>Indispo. Siemens %</th>\n      <th>Indispo. ONEE %</th>\n      <th>Indispo. Ebop %</th>\n      <th>Pertes élctriques en MWh</th>\n      <th>Power Boost en MWh</th>\n      <th>Performance moyenne des turbines</th>\n      <th>MTBF - Mean Time Between Failure</th>\n      <th>MTTR - Mean Time To Repair</th>\n      <th>MTTI - Mean Time To Intervention</th>\n    </tr>\n  </thead>\n  <tbody>\n    <tr>\n      <th>Indicateurs annuels :</th>\n      <td>0.0</td>\n      <td>2.85</td>\n      <td>0.71</td>\n      <td>2.14</td>\n      <td>0.0</td>\n      <td>0.0</td>\n      <td>14647.50</td>\n      <td>6387.148547</td>\n      <td>96.341666</td>\n      <td>39.283167</td>\n      <td>11.160979</td>\n      <td>8.084343</td>\n    </tr>\n    <tr>\n      <th>Indicateurs du mois 2020-07 :</th>\n      <td>0.0</td>\n      <td>1.79</td>\n      <td>0.20</td>\n      <td>1.59</td>\n      <td>0.0</td>\n      <td>0.0</td>\n      <td>4271.14</td>\n      <td>2929.048547</td>\n      <td>0.000000</td>\n      <td>48.472215</td>\n      <td>10.931891</td>\n      <td>7.875000</td>\n    </tr>\n  </tbody>\n</table>\n</div>"
     },
     "metadata": {},
     "execution_count": 65
    }
   ],
   "source": [
    "df_ax1"
   ]
  },
  {
   "cell_type": "markdown",
   "metadata": {
    "hidden": true
   },
   "source": [
    "## Graphe 1 ax3"
   ]
  },
  {
   "cell_type": "code",
   "execution_count": 47,
   "metadata": {
    "hidden": true
   },
   "outputs": [],
   "source": [
    "df_ax3 = (cumul_main_result_sum.groupby('Error Group')\n",
    "                .agg(Freq=('Alarmcode', 'count'),\n",
    "                     Durée=('RealPeriod', lambda x: x.sum().total_seconds()/3600))\n",
    "                .sort_values('Freq', ascending=False)\n",
    "                .reindex(reorder)\n",
    "                .dropna()\n",
    "                .reset_index()\n",
    "                )\n",
    "\n",
    "# df_ax3.plot(kind='bar', x='Error Group', ax=ax3)"
   ]
  },
  {
   "cell_type": "markdown",
   "metadata": {
    "hidden": true
   },
   "source": [
    "## Graphe 2 ax4"
   ]
  },
  {
   "cell_type": "code",
   "execution_count": 48,
   "metadata": {
    "hidden": true
   },
   "outputs": [
    {
     "output_type": "execute_result",
     "data": {
      "text/plain": "        Catégorie       MTTR          MTBF\n0           Brake  10.135484    715.039227\n1      Controller  11.783332    173.902778\n2       Converter  12.033263    242.133397\n3            Gear  11.341296    516.249668\n4            Grid   9.004168    160.913844\n5             Hub  11.511736    633.679435\n6      Hydraulics  10.201698    142.667237\n7   Miscellaneous  15.026806  13950.873883\n8           Rotor   8.101708   1394.812429\n9          System   9.449068    139.121289\n10            Yaw  11.520554    102.104536\n11      Generator  34.111975   3098.912001\n12    Environment   5.934841   1328.467001",
      "text/html": "<div>\n<style scoped>\n    .dataframe tbody tr th:only-of-type {\n        vertical-align: middle;\n    }\n\n    .dataframe tbody tr th {\n        vertical-align: top;\n    }\n\n    .dataframe thead th {\n        text-align: right;\n    }\n</style>\n<table border=\"1\" class=\"dataframe\">\n  <thead>\n    <tr style=\"text-align: right;\">\n      <th></th>\n      <th>Catégorie</th>\n      <th>MTTR</th>\n      <th>MTBF</th>\n    </tr>\n  </thead>\n  <tbody>\n    <tr>\n      <th>0</th>\n      <td>Brake</td>\n      <td>10.135484</td>\n      <td>715.039227</td>\n    </tr>\n    <tr>\n      <th>1</th>\n      <td>Controller</td>\n      <td>11.783332</td>\n      <td>173.902778</td>\n    </tr>\n    <tr>\n      <th>2</th>\n      <td>Converter</td>\n      <td>12.033263</td>\n      <td>242.133397</td>\n    </tr>\n    <tr>\n      <th>3</th>\n      <td>Gear</td>\n      <td>11.341296</td>\n      <td>516.249668</td>\n    </tr>\n    <tr>\n      <th>4</th>\n      <td>Grid</td>\n      <td>9.004168</td>\n      <td>160.913844</td>\n    </tr>\n    <tr>\n      <th>5</th>\n      <td>Hub</td>\n      <td>11.511736</td>\n      <td>633.679435</td>\n    </tr>\n    <tr>\n      <th>6</th>\n      <td>Hydraulics</td>\n      <td>10.201698</td>\n      <td>142.667237</td>\n    </tr>\n    <tr>\n      <th>7</th>\n      <td>Miscellaneous</td>\n      <td>15.026806</td>\n      <td>13950.873883</td>\n    </tr>\n    <tr>\n      <th>8</th>\n      <td>Rotor</td>\n      <td>8.101708</td>\n      <td>1394.812429</td>\n    </tr>\n    <tr>\n      <th>9</th>\n      <td>System</td>\n      <td>9.449068</td>\n      <td>139.121289</td>\n    </tr>\n    <tr>\n      <th>10</th>\n      <td>Yaw</td>\n      <td>11.520554</td>\n      <td>102.104536</td>\n    </tr>\n    <tr>\n      <th>11</th>\n      <td>Generator</td>\n      <td>34.111975</td>\n      <td>3098.912001</td>\n    </tr>\n    <tr>\n      <th>12</th>\n      <td>Environment</td>\n      <td>5.934841</td>\n      <td>1328.467001</td>\n    </tr>\n  </tbody>\n</table>\n</div>"
     },
     "metadata": {},
     "execution_count": 48
    }
   ],
   "source": [
    "df_ax4"
   ]
  },
  {
   "cell_type": "markdown",
   "metadata": {
    "hidden": true
   },
   "source": [
    "## Graphe 5 ax8"
   ]
  },
  {
   "cell_type": "code",
   "execution_count": 49,
   "metadata": {
    "hidden": true
   },
   "outputs": [],
   "source": [
    "df_ax8 = pd.merge(\n",
    "        (cumul_results.groupby('StationId')\n",
    "                       .agg(**{'Durée alarmes': ('Duration 115(s)', lambda x: x.sum()/3600),\n",
    "                               'Durée autres': ('Duration 20-25(s)', lambda x: x.sum()/3600)})\n",
    "                       .reset_index()\n",
    "         ),\n",
    "         (cumul_alarms.groupby('StationId')\n",
    "                      .agg(**{'Freq alarmes': ('Alarmcode', lambda x: int(x[x == 115].count()/2)),\n",
    "                              'Freq autres': ('Alarmcode', lambda x: x[x == 20].count())})\n",
    "                      .reset_index()\n",
    "         ),\n",
    "        ).sort_values('Durée alarmes', ascending=False).head(20)\n",
    "\n",
    "# df_ax8.plot(kind='bar', x='StationId', ax=ax8)\n",
    "\n",
    "df_ax8['Duration_20_25 reel'] = df_ax8['Durée autres']\n",
    "df_ax8['Durée autres'] = df_ax8['Duration_20_25 reel'] - df_ax8['Durée alarmes']\n"
   ]
  },
  {
   "cell_type": "markdown",
   "metadata": {
    "hidden": true
   },
   "source": [
    "## Graphe 7 ax18"
   ]
  },
  {
   "cell_type": "code",
   "execution_count": 50,
   "metadata": {
    "hidden": true
   },
   "outputs": [
    {
     "output_type": "execute_result",
     "data": {
      "text/plain": "Index(['Unnamed: 0', 'StationId', 'TimeStamp', 'RealPeriod', 'Period 0(s)',\n       'Period 1(s)', 'UK Text', 'wtc_kWG1Tot_accum', 'wtc_kWG1TotE_accum',\n       'wtc_ActPower_min', 'wtc_ActPower_max', 'wtc_ActPower_mean',\n       'Duration 115(s)', 'Duration 20-25(s)', 'wtc_AcWindSp_mean',\n       'wtc_ActualWindDirection_mean', '('met_WindSpeedRot_mean', 38)',\n       '('met_WindSpeedRot_mean', 39)', '('met_WindSpeedRot_mean', 246)',\n       '('met_WinddirectionRot_mean', 38)',\n       '('met_WinddirectionRot_mean', 39)',\n       '('met_WinddirectionRot_mean', 246)', 'Epot', 'Correction Factor',\n       'Available Turbines', 'EL', 'ELX', 'ELNX', 'EL 115', 'EL 20-25',\n       'EL_115_left', 'EL_indefini', 'EL_wind', 'Duration lowind(s)',\n       'EL_wind_start', 'Duration lowind_start(s)', 'EL_alarm_start',\n       'Duration alarm_start(s)', 'EL_indefini_left'],\n      dtype='object')"
     },
     "metadata": {},
     "execution_count": 50
    }
   ],
   "source": [
    "cumul_results.columns"
   ]
  },
  {
   "cell_type": "code",
   "execution_count": 51,
   "metadata": {
    "hidden": true
   },
   "outputs": [],
   "source": [
    "df_ax18 = (cumul_results[['StationId','ELNX', 'EL_indefini_left']]\n",
    "                .groupby('StationId')\n",
    "                .sum()\n",
    "                .sort_values('StationId')\n",
    "                # .head(20)\n",
    "                .reset_index())\n"
   ]
  },
  {
   "cell_type": "code",
   "execution_count": 52,
   "metadata": {
    "hidden": true
   },
   "outputs": [
    {
     "output_type": "execute_result",
     "data": {
      "text/plain": "     StationId           ELNX  EL_indefini_left\n0            1  126789.112252           3535.84\n1            2  140337.578956            922.79\n2            3  138112.832936            686.65\n3            4  171111.789648           1355.02\n4            5  138982.029580           2774.82\n..         ...            ...               ...\n126        127  143714.906231          48941.08\n127        128   10628.324078          23941.34\n128        129  316905.570434          13246.97\n129        130   42692.969239          21091.02\n130        131  154177.890078          18238.06\n\n[131 rows x 3 columns]",
      "text/html": "<div>\n<style scoped>\n    .dataframe tbody tr th:only-of-type {\n        vertical-align: middle;\n    }\n\n    .dataframe tbody tr th {\n        vertical-align: top;\n    }\n\n    .dataframe thead th {\n        text-align: right;\n    }\n</style>\n<table border=\"1\" class=\"dataframe\">\n  <thead>\n    <tr style=\"text-align: right;\">\n      <th></th>\n      <th>StationId</th>\n      <th>ELNX</th>\n      <th>EL_indefini_left</th>\n    </tr>\n  </thead>\n  <tbody>\n    <tr>\n      <th>0</th>\n      <td>1</td>\n      <td>126789.112252</td>\n      <td>3535.84</td>\n    </tr>\n    <tr>\n      <th>1</th>\n      <td>2</td>\n      <td>140337.578956</td>\n      <td>922.79</td>\n    </tr>\n    <tr>\n      <th>2</th>\n      <td>3</td>\n      <td>138112.832936</td>\n      <td>686.65</td>\n    </tr>\n    <tr>\n      <th>3</th>\n      <td>4</td>\n      <td>171111.789648</td>\n      <td>1355.02</td>\n    </tr>\n    <tr>\n      <th>4</th>\n      <td>5</td>\n      <td>138982.029580</td>\n      <td>2774.82</td>\n    </tr>\n    <tr>\n      <th>...</th>\n      <td>...</td>\n      <td>...</td>\n      <td>...</td>\n    </tr>\n    <tr>\n      <th>126</th>\n      <td>127</td>\n      <td>143714.906231</td>\n      <td>48941.08</td>\n    </tr>\n    <tr>\n      <th>127</th>\n      <td>128</td>\n      <td>10628.324078</td>\n      <td>23941.34</td>\n    </tr>\n    <tr>\n      <th>128</th>\n      <td>129</td>\n      <td>316905.570434</td>\n      <td>13246.97</td>\n    </tr>\n    <tr>\n      <th>129</th>\n      <td>130</td>\n      <td>42692.969239</td>\n      <td>21091.02</td>\n    </tr>\n    <tr>\n      <th>130</th>\n      <td>131</td>\n      <td>154177.890078</td>\n      <td>18238.06</td>\n    </tr>\n  </tbody>\n</table>\n<p>131 rows × 3 columns</p>\n</div>"
     },
     "metadata": {},
     "execution_count": 52
    }
   ],
   "source": [
    "df_ax18"
   ]
  },
  {
   "cell_type": "markdown",
   "metadata": {},
   "source": [
    "# Export Data to excel xlsxwriter"
   ]
  },
  {
   "cell_type": "code",
   "execution_count": 55,
   "metadata": {},
   "outputs": [],
   "source": [
    "writer = pd.ExcelWriter(f'./input/{period}/output_xlsxwriter.xlsx')\n",
    "# -------------------------------------------------------------------------------------------\n",
    "\n",
    "workbook = writer.book\n",
    "dashsheet = workbook.add_worksheet('Dash')\n",
    "# -------------------------------------------------------------------------------------------\n",
    "\n",
    "df_ax1.to_excel(writer, sheet_name='ax1')\n",
    "\n",
    "# -------------------------------------------------------------------------------------------\n",
    "\n",
    "df_ax3.to_excel(writer, index=False, sheet_name='ax3')\n",
    "\n",
    "worksheet = writer.sheets['ax3']\n",
    "\n",
    "\n",
    "def make_chart_ax3():\n",
    "    column_chart = workbook.add_chart({'type': 'column'})\n",
    "\n",
    "    column_chart.add_series({'name': ['ax3', 0, 2],\n",
    "                             'categories': ['ax3', 1, 0, 13, 0],\n",
    "                             'values': ['ax3', 1, 2, 13, 2], })\n",
    "\n",
    "    line_chart = workbook.add_chart({'type': 'line'})\n",
    "\n",
    "    # Configure the data series for the secondary chart. We also set a\n",
    "    # secondary Y axis via (y2_axis).\n",
    "    line_chart.add_series({\n",
    "        'values': ['ax3', 1, 1, 13, 1],\n",
    "        'categories': ['ax3', 1, 0, 13, 0],\n",
    "        'name': ['ax3', 0, 1],\n",
    "        'y2_axis': True,\n",
    "    })\n",
    "\n",
    "    # Combine the charts.\n",
    "    column_chart.combine(line_chart)\n",
    "\n",
    "    # Configure the chart axes.\n",
    "    # column_chart.set_x_axis({'name': df_ax3.columns[0]})\n",
    "    column_chart.set_y_axis({'name': 'Durée en h'})\n",
    "    column_chart.set_legend({'position': 'bottom'})\n",
    "    column_chart.set_title({'name': 'Cumul annuel par type d\\'alarme',\n",
    "                            'name_font': {'size': 12, 'bold': True}})\n",
    "    line_chart.set_y2_axis({'name': df_ax3.columns[1]})\n",
    "    return column_chart\n",
    "\n",
    "\n",
    "column_chart = make_chart_ax3()\n",
    "# Insert the chart into the worksheet.\n",
    "worksheet.insert_chart('E2', column_chart)\n",
    "\n",
    "column_chart = make_chart_ax3()\n",
    "# Insert the chart into the worksheet.\n",
    "dashsheet.insert_chart('B2', column_chart)\n",
    "\n",
    "# -------------------------------------------------------------------------------------------\n",
    "df_ax4.to_excel(writer, index=False, sheet_name='ax4')\n",
    "worksheet = writer.sheets['ax4']\n",
    "\n",
    "\n",
    "def make_chart_ax4():\n",
    "    column_chart = workbook.add_chart({'type': 'column'})\n",
    "\n",
    "    column_chart.add_series({'name': ['ax4', 0, 2],\n",
    "                             'categories': ['ax4', 1, 0, 13, 0],\n",
    "                             'values': ['ax4', 1, 2, 13, 2]})\n",
    "\n",
    "    line_chart = workbook.add_chart({'type': 'line'})\n",
    "\n",
    "    # Configure the data series for the secondary chart. We also set a\n",
    "    # secondary Y axis via (y2_axis).\n",
    "    line_chart.add_series({\n",
    "        'values': ['ax4', 1, 1, 13, 1],\n",
    "        'categories': ['ax4', 1, 0, 13, 0],\n",
    "        'name': ['ax4', 0, 1],\n",
    "        'y2_axis': True,\n",
    "    })\n",
    "\n",
    "    # Combine the charts.\n",
    "    column_chart.combine(line_chart)\n",
    "    # Configure the chart axes.\n",
    "    # column_chart.set_x_axis({'name': df_ax4.columns[0]})\n",
    "    column_chart.set_y_axis({'name': 'MTBF en j'})\n",
    "    column_chart.set_legend({'position': 'bottom'})\n",
    "    column_chart.set_title({'name': 'MTBF et MTTR par catégorie sur l\\'année 2020',\n",
    "                            'name_font': {'size': 12, 'bold': True}})\n",
    "    line_chart.set_y2_axis({'name': 'MTTR en h'})\n",
    "    return column_chart\n",
    "\n",
    "\n",
    "column_chart = make_chart_ax4()\n",
    "# Insert the chart into the worksheet.\n",
    "worksheet.insert_chart('E2', column_chart)\n",
    "\n",
    "column_chart = make_chart_ax4()\n",
    "# Insert the chart into the worksheet.\n",
    "dashsheet.insert_chart('J2', column_chart)\n",
    "\n",
    "# -------------------------------------------------------------------------------------------\n",
    "df_ax5.to_excel(writer, index=False, sheet_name='ax5')\n",
    "\n",
    "worksheet = writer.sheets['ax5']\n",
    "\n",
    "\n",
    "def make_chart_ax5():\n",
    "    column_chart = workbook.add_chart({'type': 'column'})\n",
    "\n",
    "    column_chart.add_series({'name': ['ax5', 0, 2],\n",
    "                             'categories': ['ax5', 1, 0, 13, 0],\n",
    "                             'values': ['ax5', 1, 2, 13, 2]})\n",
    "\n",
    "    line_chart = workbook.add_chart({'type': 'line'})\n",
    "\n",
    "    # Configure the data series for the secondary chart. We also set a\n",
    "    # secondary Y axis via (y2_axis).\n",
    "    line_chart.add_series({\n",
    "        'values': ['ax5', 1, 1, 13, 1],\n",
    "        'categories': ['ax5', 1, 0, 13, 0],\n",
    "        'name': ['ax5', 0, 1],\n",
    "        'y2_axis': True,\n",
    "    })\n",
    "\n",
    "    # Combine the charts.\n",
    "    column_chart.combine(line_chart)\n",
    "\n",
    "    # Configure the chart axes.\n",
    "    # column_chart.set_x_axis({'name': df_ax5.columns[0]})\n",
    "    column_chart.set_y_axis({'name': 'Durée en h'})\n",
    "    column_chart.set_legend({'position': 'bottom'})\n",
    "    column_chart.set_title({'name': f'Type d\\'alarme {period}',\n",
    "                            'name_font': {'size': 12, 'bold': True}})\n",
    "\n",
    "    line_chart.set_y2_axis({'name': df_ax5.columns[1]})\n",
    "    return column_chart\n",
    "\n",
    "\n",
    "# Insert the chart into the worksheet.\n",
    "column_chart = make_chart_ax5()\n",
    "# Insert the chart into the worksheet.\n",
    "worksheet.insert_chart('E2', column_chart)\n",
    "\n",
    "column_chart = make_chart_ax5()\n",
    "# Insert the chart into the worksheet.\n",
    "dashsheet.insert_chart('R2', column_chart)\n",
    "\n",
    "\n",
    "# ------------------------------------------------------------------------------------------\n",
    "df_ax6.to_excel(writer, index=False, sheet_name='ax6')\n",
    "\n",
    "worksheet = writer.sheets['ax6']\n",
    "\n",
    "\n",
    "def make_chart_ax6():\n",
    "    column_chart = workbook.add_chart({'type': 'column'})\n",
    "\n",
    "    column_chart.add_series({'name': ['ax6', 0, 2],\n",
    "                             'categories': ['ax6', 1, 0, 20, 0],\n",
    "                             'values': ['ax6', 1, 2, 20, 2]})\n",
    "\n",
    "    line_chart = workbook.add_chart({'type': 'line'})\n",
    "\n",
    "    # Configure the data series for the secondary chart. We also set a\n",
    "    # secondary Y axis via (y2_axis).\n",
    "    line_chart.add_series({\n",
    "        'values': ['ax6', 1, 1, 20, 1],\n",
    "        'categories': ['ax6', 1, 0, 20, 0],\n",
    "        'name': ['ax6', 0, 1],\n",
    "        'y2_axis': True,\n",
    "    })\n",
    "\n",
    "    # Combine the charts.\n",
    "    column_chart.combine(line_chart)\n",
    "\n",
    "    # Configure the chart axes.\n",
    "    column_chart.set_x_axis({'name': df_ax6.columns[0]})\n",
    "    column_chart.set_y_axis({'name': 'Durée en h'})\n",
    "    column_chart.set_legend({'position': 'bottom'})\n",
    "    column_chart.set_title({'name': f'Alarmes {period}',\n",
    "                            'name_font': {'size': 12, 'bold': True}})\n",
    "\n",
    "    line_chart.set_y2_axis({'name': df_ax6.columns[1]})\n",
    "    return column_chart\n",
    "\n",
    "\n",
    "# Insert the chart into the worksheet.\n",
    "column_chart = make_chart_ax6()\n",
    "# Insert the chart into the worksheet.\n",
    "worksheet.insert_chart('E2', column_chart)\n",
    "\n",
    "column_chart = make_chart_ax6()\n",
    "# Insert the chart into the worksheet.\n",
    "dashsheet.insert_chart('Z2', column_chart)\n",
    "\n",
    "\n",
    "# ------------------------------------------------------------------------------------------------\n",
    "df_ax8.to_excel(writer, index=False, sheet_name='ax8')\n",
    "\n",
    "worksheet = writer.sheets['ax8']\n",
    "\n",
    "\n",
    "def make_chart_ax8():\n",
    "    column_chart = workbook.add_chart({'type': 'column',\n",
    "                                       'subtype': 'stacked'})\n",
    "\n",
    "    column_chart.add_series({'name': ['ax8', 0, 1],\n",
    "                             'categories': ['ax8', 1, 0, 20, 0],\n",
    "                             'values': ['ax8', 1, 1, 20, 1]})\n",
    "\n",
    "    column_chart.add_series({'name': ['ax8', 0, 2],\n",
    "                             'categories': ['ax8', 1, 0, 20, 0],\n",
    "                             'values': ['ax8', 1, 2, 20, 2]})\n",
    "\n",
    "    line_chart = workbook.add_chart({'type': 'line'})\n",
    "\n",
    "    # Configure the data series for the secondary chart. We also set a\n",
    "    # secondary Y axis via (y2_axis).\n",
    "    line_chart.add_series({\n",
    "        'values': ['ax8', 1, 3, 20, 3],\n",
    "        'categories': ['ax8', 1, 0, 20, 0],\n",
    "        'name': ['ax8', 0, 3],\n",
    "        'y2_axis': True,\n",
    "    })\n",
    "\n",
    "    line_chart.add_series({\n",
    "        'values': ['ax8', 1, 4, 20, 4],\n",
    "        'categories': ['ax8', 1, 0, 20, 0],\n",
    "        'name': ['ax8', 0, 4],\n",
    "        'y2_axis': True,\n",
    "    })\n",
    "\n",
    "    # Combine the charts.\n",
    "    column_chart.combine(line_chart)\n",
    "\n",
    "    # Configure the chart axes.\n",
    "    column_chart.set_x_axis({'name': df_ax8.columns[0]})\n",
    "    column_chart.set_y_axis({'name': 'Durée en h'})\n",
    "    column_chart.set_legend({'position': 'bottom'})\n",
    "    column_chart.set_title({'name': 'Arrêts turbines : Cumul Annuel',\n",
    "                            'name_font': {'size': 12, 'bold': True}})\n",
    "\n",
    "    line_chart.set_y2_axis({'name': 'Freq'})\n",
    "    return column_chart\n",
    "\n",
    "\n",
    "# Insert the chart into the worksheet.\n",
    "column_chart = make_chart_ax8()\n",
    "# Insert the chart into the worksheet.\n",
    "worksheet.insert_chart('G2', column_chart)\n",
    "\n",
    "column_chart = make_chart_ax8()\n",
    "# Insert the chart into the worksheet.\n",
    "dashsheet.insert_chart('B17', column_chart)\n",
    "\n",
    "# ----------------------------------------------------------------------------------------\n",
    "\n",
    "df_ax9.to_excel(writer, index=False, sheet_name='ax9')\n",
    "\n",
    "worksheet = writer.sheets['ax9']\n",
    "\n",
    "\n",
    "def make_chart_ax9():\n",
    "    column_chart = workbook.add_chart({'type': 'column',\n",
    "                                       'subtype': 'stacked'})\n",
    "\n",
    "    column_chart.add_series({'name': ['ax9', 0, 1],\n",
    "                             'categories': ['ax9', 1, 0, 20, 0],\n",
    "                             'values': ['ax9', 1, 1, 20, 1]})\n",
    "\n",
    "    column_chart.add_series({'name': ['ax9', 0, 2],\n",
    "                             'categories': ['ax9', 1, 0, 20, 0],\n",
    "                             'values': ['ax9', 1, 2, 20, 2]})\n",
    "\n",
    "    line_chart = workbook.add_chart({'type': 'line'})\n",
    "\n",
    "    # Configure the data series for the secondary chart. We also set a\n",
    "    # secondary Y axis via (y2_axis).\n",
    "    line_chart.add_series({\n",
    "        'values': ['ax9', 1, 3, 20, 3],\n",
    "        'categories': ['ax9', 1, 0, 20, 0],\n",
    "        'name': ['ax9', 0, 3],\n",
    "        'y2_axis': True,\n",
    "    })\n",
    "\n",
    "    line_chart.add_series({\n",
    "        'values': ['ax9', 1, 4, 20, 4],\n",
    "        'categories': ['ax9', 1, 0, 20, 0],\n",
    "        'name': ['ax9', 0, 4],\n",
    "        'y2_axis': True,\n",
    "    })\n",
    "\n",
    "    # Combine the charts.\n",
    "    column_chart.combine(line_chart)\n",
    "\n",
    "    # Configure the chart axes.\n",
    "    column_chart.set_x_axis({'name': df_ax9.columns[0]})\n",
    "    column_chart.set_y_axis({'name': 'Durée en h'})\n",
    "    column_chart.set_legend({'position': 'bottom'})\n",
    "    column_chart.set_title({'name': f'Arrêts turbines {period}',\n",
    "                            'name_font': {'size': 12, 'bold': True}})\n",
    "\n",
    "    line_chart.set_y2_axis({'name': 'Freq'})\n",
    "    return column_chart\n",
    "\n",
    "\n",
    "# Insert the chart into the worksheet.\n",
    "column_chart = make_chart_ax9()\n",
    "# Insert the chart into the worksheet.\n",
    "worksheet.insert_chart('G2', column_chart)\n",
    "\n",
    "column_chart = make_chart_ax9()\n",
    "# Insert the chart into the worksheet.\n",
    "dashsheet.insert_chart('J17', column_chart)\n",
    "\n",
    "# ----------------------------------------------------------------------------------------\n",
    "df_ax10.to_excel(writer, index=False, sheet_name='ax10')\n",
    "\n",
    "worksheet = writer.sheets['ax10']\n",
    "\n",
    "\n",
    "def make_chart_ax10():\n",
    "    column_chart = workbook.add_chart({'type': 'column',\n",
    "                                       'subtype': 'stacked'})\n",
    "\n",
    "    for col in range(1, 3):\n",
    "        column_chart.add_series({'values': ['ax10', 1, col, 20, col],\n",
    "                                 'categories': ['ax10', 1, 0, 20, 0],\n",
    "                                 'name': ['ax10', 0, col]})\n",
    "\n",
    "    # Configure the chart axes.\n",
    "    column_chart.set_x_axis({'name': df_ax10.columns[0]})\n",
    "    # column_chart.set_y_axis({'name': df_ax10.columns[1]})\n",
    "    column_chart.set_legend({'position': 'bottom'})\n",
    "    column_chart.set_title(\n",
    "        {'name': f'Energie perdue selon FSA du {period}',\n",
    "         'name_font': {'size': 12, 'bold': True}}\n",
    "    )\n",
    "    return column_chart\n",
    "\n",
    "\n",
    "# Insert the chart into the worksheet.\n",
    "column_chart = make_chart_ax10()\n",
    "# Insert the chart into the worksheet.\n",
    "worksheet.insert_chart('E2', column_chart)\n",
    "\n",
    "column_chart = make_chart_ax10()\n",
    "# Insert the chart into the worksheet.\n",
    "dashsheet.insert_chart('R17', column_chart)\n",
    "\n",
    "# ----------------------------------------------------------------------------------------\n",
    "df_ax18.to_excel(writer, index=False, sheet_name='ax18')\n",
    "\n",
    "worksheet = writer.sheets['ax18']\n",
    "\n",
    "\n",
    "def make_chart_ax18():\n",
    "    column_chart = workbook.add_chart({'type': 'column',\n",
    "                                       'subtype': 'stacked'})\n",
    "\n",
    "    for col in range(1, 3):\n",
    "        column_chart.add_series({'values': ['ax18', 1, col, 131, col],\n",
    "                                 'categories': ['ax18', 1, 0, 131, 0],\n",
    "                                 'name': ['ax18', 0, col]})\n",
    "\n",
    "    # Configure the chart axes.\n",
    "    column_chart.set_x_axis({'name': df_ax18.columns[0]})\n",
    "    # column_chart.set_y_axis({'name': df_ax18.columns[1]})\n",
    "    column_chart.set_legend({'position': 'bottom'})\n",
    "    column_chart.set_title(\n",
    "        {'name': 'Energie perdue selon FSA cumulée sur l\\'année 2020 en MWh',\n",
    "         'name_font': {'size': 12, 'bold': True}}\n",
    "    )\n",
    "    return column_chart\n",
    "\n",
    "\n",
    "# Insert the chart into the worksheet.\n",
    "column_chart = make_chart_ax18()\n",
    "# Insert the chart into the worksheet.\n",
    "worksheet.insert_chart('E2', column_chart)\n",
    "\n",
    "column_chart = make_chart_ax18()\n",
    "# Insert the chart into the worksheet.\n",
    "dashsheet.insert_chart('B32', column_chart, {'x_scale': 4, 'y_scale': 1})\n",
    "\n",
    "# ----------------------------------------------------------------------------------------\n",
    "df_ax19.to_excel(writer, index=False, sheet_name='ax19')\n",
    "\n",
    "worksheet = writer.sheets['ax19']\n",
    "\n",
    "\n",
    "def make_chart_ax19():\n",
    "    column_chart = workbook.add_chart({'type': 'column'})\n",
    "\n",
    "    column_chart.add_series({'values': ['ax19', 1, 1, 131, 1],\n",
    "                             'categories': ['ax19', 1, 0, 131, 0],\n",
    "                             'name': ['ax19', 0, 1]})\n",
    "\n",
    "    # Configure the chart axes.\n",
    "    column_chart.set_x_axis({'name': df_ax19.columns[0]})\n",
    "    # column_chart.set_y_axis({'name': df_ax19.columns[1]})\n",
    "    column_chart.set_legend({'position': 'bottom'})\n",
    "    column_chart.set_title(\n",
    "        {'name': f'Ratio Courbe Théorique vs Courbe Réelle du {period}',\n",
    "         'name_font': {'size': 12, 'bold': True}}\n",
    "    )\n",
    "    return column_chart\n",
    "\n",
    "\n",
    "# Insert the chart into the worksheet.\n",
    "column_chart = make_chart_ax19()\n",
    "# Insert the chart into the worksheet.\n",
    "worksheet.insert_chart('E2', column_chart)\n",
    "\n",
    "column_chart = make_chart_ax19()\n",
    "# Insert the chart into the worksheet.\n",
    "dashsheet.insert_chart('B47', column_chart, {'x_scale': 4, 'y_scale': 1})\n",
    "\n",
    "\n",
    "writer.save()"
   ]
  },
  {
   "cell_type": "code",
   "execution_count": null,
   "metadata": {
    "heading_collapsed": true
   },
   "outputs": [],
   "source": []
  }
 ],
 "metadata": {
  "kernelspec": {
   "display_name": "Python 3",
   "language": "python",
   "name": "python3"
  },
  "language_info": {
   "codemirror_mode": {
    "name": "ipython",
    "version": 3
   },
   "file_extension": ".py",
   "mimetype": "text/x-python",
   "name": "python",
   "nbconvert_exporter": "python",
   "pygments_lexer": "ipython3",
   "version": "3.8.2-final"
  },
  "toc": {
   "base_numbering": 1,
   "nav_menu": {},
   "number_sections": true,
   "sideBar": true,
   "skip_h1_title": false,
   "title_cell": "Table of Contents",
   "title_sidebar": "Contents",
   "toc_cell": false,
   "toc_position": {
    "height": "calc(100% - 180px)",
    "left": "10px",
    "top": "150px",
    "width": "280.2px"
   },
   "toc_section_display": true,
   "toc_window_display": true
  }
 },
 "nbformat": 4,
 "nbformat_minor": 2
}